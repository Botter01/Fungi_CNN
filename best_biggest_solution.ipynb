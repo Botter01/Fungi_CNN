{
 "cells": [
  {
   "cell_type": "code",
   "execution_count": 12,
   "metadata": {
    "colab": {
     "base_uri": "https://localhost:8080/"
    },
    "id": "KgddYst-qwKJ",
    "outputId": "13a934ce-bcc8-4f09-ced9-d5cf39eb8285"
   },
   "outputs": [
    {
     "name": "stdout",
     "output_type": "stream",
     "text": [
      "'train_pics.zip' sikeresen kicsomagolva 'train_pics' mappába.\n",
      "Az összes zip fájl kicsomagolása befejeződött.\n",
      "'valid_data.zip' sikeresen kicsomagolva 'valid_data' mappába.\n",
      "Az összes zip fájl kicsomagolása befejeződött.\n"
     ]
    }
   ],
   "source": [
    "import os\n",
    "import zipfile\n",
    "\n",
    "def unzip_files_in_directory(directory_path):\n",
    "    # Ellenőrizzük, hogy létezik-e a megadott mappa\n",
    "    if not os.path.isdir(directory_path):\n",
    "        print(f\"Hiba: '{directory_path}' nem létező könyvtár.\")\n",
    "        return\n",
    "\n",
    "    # Végigmegyünk az összes fájlon a megadott mappán belül\n",
    "    for file_name in os.listdir(directory_path):\n",
    "        file_path = os.path.join(directory_path, file_name)\n",
    "\n",
    "        # Csak .zip fájlokat csomagolunk ki\n",
    "        if os.path.isfile(file_path) and file_name.endswith('.zip'):\n",
    "            # Létrehozzuk a kicsomagolási célmappát a zip fájl neve alapján (kiterjesztés nélkül)\n",
    "            extract_folder_name = os.path.splitext(file_name)[0]\n",
    "            extract_path = os.path.join(directory_path, extract_folder_name)\n",
    "\n",
    "            # Kicsomagoljuk a zip fájlt a megadott mappába\n",
    "            with zipfile.ZipFile(file_path, 'r') as zip_ref:\n",
    "                zip_ref.extractall(extract_path)\n",
    "            print(f\"'{file_name}' sikeresen kicsomagolva '{extract_folder_name}' mappába.\")\n",
    "\n",
    "    print(\"Az összes zip fájl kicsomagolása befejeződött.\")\n",
    "\n",
    "# Használat\n",
    "directory_path = \"./train\"\n",
    "unzip_files_in_directory(directory_path)\n",
    "directory_path = \"./valid\"\n",
    "unzip_files_in_directory(directory_path)"
   ]
  },
  {
   "cell_type": "code",
   "execution_count": null,
   "metadata": {
    "colab": {
     "base_uri": "https://localhost:8080/",
     "height": 178
    },
    "id": "wkRBmvUvwg6I",
    "outputId": "79d81d58-fc8d-4f28-a2e2-8e121ddca8f0"
   },
   "outputs": [
    {
     "data": {
      "text/plain": [
       "poisonous\n",
       "0    6218\n",
       "1     190\n",
       "Name: count, dtype: int64"
      ]
     },
     "execution_count": 1,
     "metadata": {},
     "output_type": "execute_result"
    }
   ],
   "source": [
    "import tensorflow as tf\n",
    "import pandas as pd\n",
    "from tensorflow.keras import layers, Model, Input\n",
    "from tensorflow.keras.applications import ResNet50\n",
    "from tensorflow.keras.optimizers import Adam\n",
    "from keras.api.applications.vgg19 import VGG19\n",
    "from keras.applications import EfficientNetB1, EfficientNetB7\n",
    "from keras.api.applications.vgg19 import preprocess_input, decode_predictions\n",
    "from keras.api.layers import Dense, Flatten, Dropout, Activation,GlobalAveragePooling2D,Lambda, RandomRotation, RandomZoom, RandomFlip, RandomTranslation\n",
    "\n",
    "# 1. Adatok előkészítése\n",
    "# CSV betöltése\n",
    "data_dir_train = \"./train/train_pics\"  # A képek könyvtára\n",
    "labels_train_df = pd.read_csv(\"./train/encoded_species_train.csv\", sep=',')  # Címkék CSV fájl\n",
    "\n",
    "data_dir_valid = \"./valid/valid_data\"  # A képek könyvtára\n",
    "labels_valid_df = pd.read_csv(\"./valid/encoded_species_valid.csv\", sep=',')  # Címkék CSV fájl\n",
    "labels_valid_df['poisonous'].value_counts()\n"
   ]
  },
  {
   "cell_type": "code",
   "execution_count": 3,
   "metadata": {
    "id": "HiyeG2dCqwKO"
   },
   "outputs": [],
   "source": [
    "from keras.api.models import Model, Sequential\n",
    "from keras import layers\n",
    "import keras\n",
    "import tensorflow as tf\n",
    "import matplotlib.pyplot as plt"
   ]
  },
  {
   "cell_type": "code",
   "execution_count": 4,
   "metadata": {
    "id": "PFbzTFrWzOcs"
   },
   "outputs": [],
   "source": [
    "# Címkék és file path-ek betöltése\n",
    "file_paths_train = [f\"{data_dir_train}/{fname}\" for fname in labels_train_df[\"image_path\"]]\n",
    "species_labels_train = labels_train_df[\"species_encoded\"].values  # Többosztályos címkék\n",
    "toxicity_labels_train = labels_train_df[\"poisonous\"].values  # Bináris címkék\n",
    "\n",
    "file_paths_valid = [f\"{data_dir_valid}/{fname}\" for fname in labels_valid_df[\"image_path\"]]\n",
    "species_labels_valid = labels_valid_df[\"species_encoded\"].values  # Többosztályos címkék\n",
    "toxicity_labels_valid = labels_valid_df[\"poisonous\"].values  # Bináris címkék"
   ]
  },
  {
   "cell_type": "code",
   "execution_count": 5,
   "metadata": {
    "colab": {
     "base_uri": "https://localhost:8080/"
    },
    "id": "C9huR1sDy9oW",
    "outputId": "089e53b3-c220-4b10-84ca-7fce8860c104"
   },
   "outputs": [
    {
     "data": {
      "text/plain": [
       "201"
      ]
     },
     "execution_count": 5,
     "metadata": {},
     "output_type": "execute_result"
    }
   ],
   "source": [
    "# Egyéni adatbetöltő függvény\n",
    "def preprocess_image(filename, species_label, toxicity_label):\n",
    "    # Kép betöltése és átméretezése\n",
    "    image = tf.io.read_file(filename)\n",
    "    image = tf.image.decode_jpeg(image, channels=3)\n",
    "    image = tf.image.resize(image, (220, 220))\n",
    "    return image, {\"species\": species_label, \"toxicity\": toxicity_label}\n",
    "\n",
    "# TensorFlow dataset létrehozása\n",
    "file_paths_ds_train = tf.data.Dataset.from_tensor_slices((file_paths_train, species_labels_train, toxicity_labels_train))\n",
    "dataset_train = file_paths_ds_train.map(preprocess_image)\n",
    "\n",
    "file_paths_ds_valid = tf.data.Dataset.from_tensor_slices((file_paths_valid, species_labels_valid, toxicity_labels_valid))\n",
    "dataset_valid = file_paths_ds_valid.map(preprocess_image)\n",
    "\n",
    "# Adat split (train és validation)\n",
    "train_size = int(len(file_paths_train))\n",
    "train_dataset = dataset_train.take(train_size).batch(32).shuffle(1000)\n",
    "\n",
    "valid_size = int(len(file_paths_valid))\n",
    "valid_dataset = dataset_valid.take(valid_size).batch(32).shuffle(1000)\n",
    "len(train_dataset)\n",
    "len(valid_dataset)\n"
   ]
  },
  {
   "cell_type": "code",
   "execution_count": 7,
   "metadata": {
    "colab": {
     "base_uri": "https://localhost:8080/"
    },
    "id": "zEtm1AwGqwKP",
    "outputId": "427d264d-3fdd-44d9-bf66-524a80bedbf2"
   },
   "outputs": [],
   "source": [
    "from keras.callbacks import EarlyStopping\n",
    "\n",
    "early_stopping = EarlyStopping(\n",
    "    min_delta=0.001,\n",
    "    patience=5,\n",
    "    verbose=1,\n",
    "    mode='auto',\n",
    "    restore_best_weights=True\n",
    ")\n",
    "\n",
    "#base_model = EfficientNetB7(weights='imagenet', include_top=False, input_shape=(130, 130, 3))\n",
    "second_model = EfficientNetB1(weights='imagenet', include_top=False, input_shape=(220, 220, 3))\n",
    "#third_model = ResNet50(weights='imagenet', include_top=False, input_shape=(130, 130, 3))\n",
    "\n",
    "#for layer in base_model.layers:\n",
    "#     layer.trainable = False\n",
    "\n",
    "for layer in second_model.layers:\n",
    "     layer.trainable = False\n",
    "\n",
    "#for layer in third_model.layers:\n",
    "#     layer.trainable = False"
   ]
  },
  {
   "cell_type": "code",
   "execution_count": 8,
   "metadata": {
    "id": "37XowYMAqwKP"
   },
   "outputs": [],
   "source": [
    "import tensorflow as tf\n",
    "from tensorflow.keras import backend as K\n",
    "\n",
    "def f1_macro(y_true, y_pred):\n",
    "    # Convert predictions to class indices if needed\n",
    "    y_pred = tf.argmax(y_pred, axis=-1)\n",
    "    y_true = tf.cast(y_true, tf.int64)\n",
    "\n",
    "    # Get the number of classes dynamically\n",
    "    num_classes = tf.reduce_max(y_true) + 1\n",
    "\n",
    "    # Initialize a tensor to store F1 scores for each class\n",
    "    f1_scores = tf.TensorArray(dtype=tf.float32, size=0, dynamic_size=True)\n",
    "\n",
    "    # Use tf.range instead of Python's range\n",
    "    for i in tf.range(num_classes):\n",
    "        # Calculate precision and recall for class i\n",
    "        true_positive = tf.reduce_sum(tf.cast(tf.logical_and(tf.equal(y_pred, i), tf.equal(y_true, i)), tf.float32))\n",
    "        predicted_positive = tf.reduce_sum(tf.cast(tf.equal(y_pred, i), tf.float32))\n",
    "        actual_positive = tf.reduce_sum(tf.cast(tf.equal(y_true, i), tf.float32))\n",
    "\n",
    "        precision = true_positive / (predicted_positive + K.epsilon())\n",
    "        recall = true_positive / (actual_positive + K.epsilon())\n",
    "\n",
    "        # Calculate F1 score for the class\n",
    "        f1 = 2 * (precision * recall) / (precision + recall + K.epsilon())\n",
    "        f1_scores = f1_scores.write(i, f1)\n",
    "\n",
    "    # Stack F1 scores and compute their mean (macro F1)\n",
    "    macro_f1 = tf.reduce_mean(f1_scores.stack())\n",
    "    return macro_f1\n"
   ]
  },
  {
   "cell_type": "code",
   "execution_count": 9,
   "metadata": {
    "id": "327_L38AqwKP"
   },
   "outputs": [],
   "source": [
    "from tensorflow.keras.metrics import Precision, Recall\n",
    "from tensorflow.keras import backend as K\n",
    "\n",
    "# Initialize Precision and Recall for F1 calculation\n",
    "precision = Precision()\n",
    "recall = Recall()\n",
    "\n",
    "def f1_score(y_true, y_pred):\n",
    "    p = precision(y_true, y_pred)\n",
    "    r = recall(y_true, y_pred)\n",
    "    return 2 * (p * r) / (p + r + K.epsilon())\n"
   ]
  },
  {
   "cell_type": "code",
   "execution_count": 10,
   "metadata": {
    "id": "uo6C2sVxqwKP"
   },
   "outputs": [],
   "source": [
    "\n",
    "c_PSC = tf.constant(100.0, dtype=tf.float32)  # Költség a mérgező tévesztésnél\n",
    "c_ESC = tf.constant(1.0, dtype=tf.float32)    # Költség a nem mérgező tévesztésnél\n",
    "\n",
    "\n",
    "def toxicity_confusion_loss(y_true, y_pred):\n",
    "    # `y_true` és `y_pred` bináris értékek, ahol a 0 = nem mérgező, és 1 = mérgező\n",
    "    confusion_cost = tf.where(\n",
    "        tf.logical_and(tf.equal(y_true, 1), tf.equal(tf.round(y_pred), 0)),  # mérgezőre nem mérgezőt tippeltünk\n",
    "        c_PSC,\n",
    "        tf.where(\n",
    "            tf.logical_and(tf.equal(y_true, 0), tf.equal(tf.round(y_pred), 1)),  # nem mérgezőre mérgezőt tippeltünk\n",
    "            c_ESC,\n",
    "            tf.constant(0.0, dtype=tf.float32)\n",
    "        )\n",
    "    )\n",
    "    # végül a bináris keresztentrópia + tévesztési hibafüggvényt adjuk vissza\n",
    "    base_loss = tf.keras.losses.binary_crossentropy(y_true, y_pred)\n",
    "    return base_loss + confusion_cost\n"
   ]
  },
  {
   "cell_type": "code",
   "execution_count": 11,
   "metadata": {
    "colab": {
     "base_uri": "https://localhost:8080/"
    },
    "id": "GppSPJU6zBWw",
    "outputId": "2063c7b4-a79d-42aa-c46c-d30efec11023"
   },
   "outputs": [
    {
     "name": "stdout",
     "output_type": "stream",
     "text": [
      "Epoch 1/100\n",
      "\u001b[1m1152/1152\u001b[0m \u001b[32m━━━━━━━━━━━━━━━━━━━━\u001b[0m\u001b[37m\u001b[0m \u001b[1m3798s\u001b[0m 3s/step - loss: 6.2406 - species_accuracy: 0.3015 - species_loss: 2.8949 - toxicity_f1_score: 0.0015 - toxicity_loss: 3.3441 - val_loss: 4.0277 - val_species_accuracy: 0.6114 - val_species_loss: 1.3886 - val_toxicity_f1_score: 0.0581 - val_toxicity_loss: 2.6287\n",
      "Epoch 2/100\n",
      "\u001b[1m1152/1152\u001b[0m \u001b[32m━━━━━━━━━━━━━━━━━━━━\u001b[0m\u001b[37m\u001b[0m \u001b[1m700s\u001b[0m 601ms/step - loss: 4.4706 - species_accuracy: 0.5473 - species_loss: 1.6208 - toxicity_f1_score: 0.0919 - toxicity_loss: 2.8496 - val_loss: 2.9658 - val_species_accuracy: 0.6522 - val_species_loss: 1.2326 - val_toxicity_f1_score: 0.1703 - val_toxicity_loss: 1.7265\n",
      "Epoch 3/100\n",
      "\u001b[1m1152/1152\u001b[0m \u001b[32m━━━━━━━━━━━━━━━━━━━━\u001b[0m\u001b[37m\u001b[0m \u001b[1m729s\u001b[0m 625ms/step - loss: 3.9300 - species_accuracy: 0.6015 - species_loss: 1.4036 - toxicity_f1_score: 0.2007 - toxicity_loss: 2.5257 - val_loss: 3.3384 - val_species_accuracy: 0.6862 - val_species_loss: 1.1058 - val_toxicity_f1_score: 0.2431 - val_toxicity_loss: 2.2232\n",
      "Epoch 4/100\n",
      "\u001b[1m1152/1152\u001b[0m \u001b[32m━━━━━━━━━━━━━━━━━━━━\u001b[0m\u001b[37m\u001b[0m \u001b[1m723s\u001b[0m 619ms/step - loss: 3.5166 - species_accuracy: 0.6327 - species_loss: 1.2754 - toxicity_f1_score: 0.2600 - toxicity_loss: 2.2392 - val_loss: 2.9803 - val_species_accuracy: 0.6859 - val_species_loss: 1.1018 - val_toxicity_f1_score: 0.2999 - val_toxicity_loss: 1.8691\n",
      "Epoch 5/100\n",
      "\u001b[1m1152/1152\u001b[0m \u001b[32m━━━━━━━━━━━━━━━━━━━━\u001b[0m\u001b[37m\u001b[0m \u001b[1m723s\u001b[0m 619ms/step - loss: 3.2049 - species_accuracy: 0.6486 - species_loss: 1.2083 - toxicity_f1_score: 0.3153 - toxicity_loss: 1.9957 - val_loss: 2.8508 - val_species_accuracy: 0.6990 - val_species_loss: 1.0556 - val_toxicity_f1_score: 0.3435 - val_toxicity_loss: 1.7879\n",
      "Epoch 6/100\n",
      "\u001b[1m1152/1152\u001b[0m \u001b[32m━━━━━━━━━━━━━━━━━━━━\u001b[0m\u001b[37m\u001b[0m \u001b[1m736s\u001b[0m 630ms/step - loss: 3.0490 - species_accuracy: 0.6718 - species_loss: 1.1185 - toxicity_f1_score: 0.3525 - toxicity_loss: 1.9303 - val_loss: 2.8218 - val_species_accuracy: 0.6946 - val_species_loss: 1.0726 - val_toxicity_f1_score: 0.3755 - val_toxicity_loss: 1.7421\n",
      "Epoch 7/100\n",
      "\u001b[1m1152/1152\u001b[0m \u001b[32m━━━━━━━━━━━━━━━━━━━━\u001b[0m\u001b[37m\u001b[0m \u001b[1m704s\u001b[0m 603ms/step - loss: 2.9574 - species_accuracy: 0.6868 - species_loss: 1.0563 - toxicity_f1_score: 0.3838 - toxicity_loss: 1.9011 - val_loss: 2.4015 - val_species_accuracy: 0.7100 - val_species_loss: 1.0352 - val_toxicity_f1_score: 0.4055 - val_toxicity_loss: 1.3613\n",
      "Epoch 8/100\n",
      "\u001b[1m1152/1152\u001b[0m \u001b[32m━━━━━━━━━━━━━━━━━━━━\u001b[0m\u001b[37m\u001b[0m \u001b[1m731s\u001b[0m 626ms/step - loss: 2.5662 - species_accuracy: 0.6990 - species_loss: 1.0017 - toxicity_f1_score: 0.4145 - toxicity_loss: 1.5644 - val_loss: 2.6033 - val_species_accuracy: 0.7063 - val_species_loss: 1.0154 - val_toxicity_f1_score: 0.4322 - val_toxicity_loss: 1.5816\n",
      "Epoch 9/100\n",
      "\u001b[1m1152/1152\u001b[0m \u001b[32m━━━━━━━━━━━━━━━━━━━━\u001b[0m\u001b[37m\u001b[0m \u001b[1m738s\u001b[0m 633ms/step - loss: 2.6841 - species_accuracy: 0.7140 - species_loss: 0.9472 - toxicity_f1_score: 0.4370 - toxicity_loss: 1.7368 - val_loss: 2.3688 - val_species_accuracy: 0.7127 - val_species_loss: 1.0010 - val_toxicity_f1_score: 0.4495 - val_toxicity_loss: 1.3631\n",
      "Epoch 10/100\n",
      "\u001b[1m1152/1152\u001b[0m \u001b[32m━━━━━━━━━━━━━━━━━━━━\u001b[0m\u001b[37m\u001b[0m \u001b[1m731s\u001b[0m 626ms/step - loss: 2.4609 - species_accuracy: 0.7274 - species_loss: 0.9109 - toxicity_f1_score: 0.4565 - toxicity_loss: 1.5495 - val_loss: 2.4196 - val_species_accuracy: 0.7208 - val_species_loss: 0.9895 - val_toxicity_f1_score: 0.4694 - val_toxicity_loss: 1.4253\n",
      "Epoch 11/100\n",
      "\u001b[1m1152/1152\u001b[0m \u001b[32m━━━━━━━━━━━━━━━━━━━━\u001b[0m\u001b[37m\u001b[0m \u001b[1m712s\u001b[0m 610ms/step - loss: 2.3526 - species_accuracy: 0.7344 - species_loss: 0.8734 - toxicity_f1_score: 0.4749 - toxicity_loss: 1.4790 - val_loss: 2.4439 - val_species_accuracy: 0.7164 - val_species_loss: 1.0150 - val_toxicity_f1_score: 0.4866 - val_toxicity_loss: 1.4241\n",
      "Epoch 12/100\n",
      "\u001b[1m1152/1152\u001b[0m \u001b[32m━━━━━━━━━━━━━━━━━━━━\u001b[0m\u001b[37m\u001b[0m \u001b[1m666s\u001b[0m 570ms/step - loss: 2.2423 - species_accuracy: 0.7445 - species_loss: 0.8303 - toxicity_f1_score: 0.4912 - toxicity_loss: 1.4100 - val_loss: 2.1934 - val_species_accuracy: 0.7271 - val_species_loss: 0.9772 - val_toxicity_f1_score: 0.5012 - val_toxicity_loss: 1.2137\n",
      "Epoch 13/100\n",
      "\u001b[1m1152/1152\u001b[0m \u001b[32m━━━━━━━━━━━━━━━━━━━━\u001b[0m\u001b[37m\u001b[0m \u001b[1m742s\u001b[0m 636ms/step - loss: 2.0624 - species_accuracy: 0.7572 - species_loss: 0.7820 - toxicity_f1_score: 0.5060 - toxicity_loss: 1.2803 - val_loss: 2.3172 - val_species_accuracy: 0.7257 - val_species_loss: 1.0149 - val_toxicity_f1_score: 0.5163 - val_toxicity_loss: 1.2979\n",
      "Epoch 14/100\n",
      "\u001b[1m1152/1152\u001b[0m \u001b[32m━━━━━━━━━━━━━━━━━━━━\u001b[0m\u001b[37m\u001b[0m \u001b[1m750s\u001b[0m 642ms/step - loss: 1.9951 - species_accuracy: 0.7627 - species_loss: 0.7665 - toxicity_f1_score: 0.5206 - toxicity_loss: 1.2283 - val_loss: 2.2057 - val_species_accuracy: 0.7333 - val_species_loss: 0.9743 - val_toxicity_f1_score: 0.5299 - val_toxicity_loss: 1.2273\n",
      "Epoch 15/100\n",
      "\u001b[1m1152/1152\u001b[0m \u001b[32m━━━━━━━━━━━━━━━━━━━━\u001b[0m\u001b[37m\u001b[0m \u001b[1m754s\u001b[0m 646ms/step - loss: 1.8073 - species_accuracy: 0.7736 - species_loss: 0.7271 - toxicity_f1_score: 0.5342 - toxicity_loss: 1.0800 - val_loss: 2.3524 - val_species_accuracy: 0.7292 - val_species_loss: 0.9960 - val_toxicity_f1_score: 0.5433 - val_toxicity_loss: 1.3506\n",
      "Epoch 16/100\n",
      "\u001b[1m1152/1152\u001b[0m \u001b[32m━━━━━━━━━━━━━━━━━━━━\u001b[0m\u001b[37m\u001b[0m \u001b[1m755s\u001b[0m 647ms/step - loss: 2.0259 - species_accuracy: 0.7747 - species_loss: 0.7212 - toxicity_f1_score: 0.5460 - toxicity_loss: 1.3040 - val_loss: 2.2906 - val_species_accuracy: 0.7258 - val_species_loss: 0.9928 - val_toxicity_f1_score: 0.5537 - val_toxicity_loss: 1.2927\n",
      "Epoch 17/100\n",
      "\u001b[1m1152/1152\u001b[0m \u001b[32m━━━━━━━━━━━━━━━━━━━━\u001b[0m\u001b[37m\u001b[0m \u001b[1m723s\u001b[0m 618ms/step - loss: 1.6971 - species_accuracy: 0.7878 - species_loss: 0.6700 - toxicity_f1_score: 0.5570 - toxicity_loss: 1.0269 - val_loss: 2.3035 - val_species_accuracy: 0.7246 - val_species_loss: 1.0237 - val_toxicity_f1_score: 0.5646 - val_toxicity_loss: 1.2749\n",
      "Epoch 17: early stopping\n",
      "Restoring model weights from the end of the best epoch: 12.\n"
     ]
    }
   ],
   "source": [
    "def crop_center(image):\n",
    "    cropped_image = tf.image.central_crop(image, central_fraction=0.8)  # 80%-os középső rész\n",
    "    resized_image = tf.image.resize(cropped_image, (220, 220))          # Resize 130x130-ra\n",
    "    return resized_image\n",
    "\n",
    "\n",
    "crop_layer = Lambda(crop_center, output_shape=(220, 220, 3))   \n",
    "# 2. Modell felépítése\n",
    "def build_multitask_model(input_shape):\n",
    "\n",
    "  \n",
    "\n",
    "    data_augmentation = Sequential([\n",
    "    RandomRotation(0.2),       # Forgatás ±20%-kal\n",
    "    RandomFlip(\"horizontal\"),  # Vízszintes tükrözés\n",
    "    ])\n",
    "\n",
    "    #cropped_img = crop_layer(base_model.input)\n",
    "    cropped_img = crop_layer(second_model.input)\n",
    "    #cropped_img = crop_layer(third_model.input)\n",
    "    x = data_augmentation(cropped_img)\n",
    "    #x = base_model(inputs=x)\n",
    "    x = second_model(x)\n",
    "    #x = third_model(x)\n",
    "    x = GlobalAveragePooling2D()(x)\n",
    "    x = Flatten()(x)\n",
    "    x = Dropout(0.25)(x)\n",
    "    x = Dense(1780, activation='relu')(x)\n",
    "    x = Dropout(0.25)(x)\n",
    "\n",
    "    # Faj osztályozó fej\n",
    "    species_head = Dense(1024, activation='relu')(x)\n",
    "    species_head = Dense(1024, activation='relu')(species_head)\n",
    "    species_output = layers.Dense(100, activation=\"softmax\", name=\"species\")(species_head)\n",
    "\n",
    "    # Mérgezőség osztályozó fej\n",
    "    toxicity_head = Dense(1024, activation='relu')(x)\n",
    "    toxicity_head = layers.Dense(1024, activation=\"relu\")(toxicity_head)\n",
    "    toxicity_output = layers.Dense(1, activation=\"sigmoid\", name=\"toxicity\")(toxicity_head)\n",
    "\n",
    "    #model = Model(inputs=base_model.input, outputs=[species_output, toxicity_output])\n",
    "    model = Model(inputs=second_model.input, outputs=[species_output, toxicity_output])\n",
    "\n",
    "    return model\n",
    "\n",
    "input_shape = (220, 220, 3)\n",
    "model = build_multitask_model(input_shape)\n",
    "\n",
    "# 3. Modell összeállítása\n",
    "model.compile(\n",
    "    optimizer=keras.optimizers.Adam(learning_rate=0.000175),\n",
    "    loss={\n",
    "        \"species\": \"sparse_categorical_crossentropy\",\n",
    "        \"toxicity\": toxicity_confusion_loss\n",
    "    },\n",
    "    metrics={\n",
    "        \"species\": \"accuracy\",\n",
    "        \"toxicity\": f1_score\n",
    "    }\n",
    ")\n",
    "\n",
    "\n",
    "# 4. Modell tanítása\n",
    "history =model.fit(\n",
    "    train_dataset,\n",
    "    callbacks=early_stopping,\n",
    "    validation_data=valid_dataset,\n",
    "    epochs=100\n",
    ")\n"
   ]
  },
  {
   "cell_type": "code",
   "execution_count": 12,
   "metadata": {
    "id": "MGQxiUlWqwKP"
   },
   "outputs": [
    {
     "name": "stdout",
     "output_type": "stream",
     "text": [
      "Minimum validation loss: 2.193424940109253\n"
     ]
    },
    {
     "data": {
      "image/png": "[encoded data removed]",
      "text/plain": [
       "<Figure size 640x480 with 1 Axes>"
      ]
     },
     "metadata": {},
     "output_type": "display_data"
    }
   ],
   "source": [
    "history_df = pd.DataFrame(history.history)\n",
    "history_df.loc[:, ['loss', 'val_loss']].plot()\n",
    "print(\"Minimum validation loss: {}\".format(history_df['val_loss'].min()))"
   ]
  }
 ],
 "metadata": {
  "accelerator": "GPU",
  "colab": {
   "gpuType": "T4",
   "provenance": []
  },
  "kernelspec": {
   "display_name": "Python 3",
   "language": "python",
   "name": "python3"
  },
  "language_info": {
   "codemirror_mode": {
    "name": "ipython",
    "version": 3
   },
   "file_extension": ".py",
   "mimetype": "text/x-python",
   "name": "python",
   "nbconvert_exporter": "python",
   "pygments_lexer": "ipython3",
   "version": "3.12.3"
  }
 },
 "nbformat": 4,
 "nbformat_minor": 0
}
