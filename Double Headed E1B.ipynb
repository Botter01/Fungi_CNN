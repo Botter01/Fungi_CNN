{
 "cells": [
  {
   "cell_type": "code",
   "execution_count": 31,
   "metadata": {
    "ExecuteTime": {
     "end_time": "2024-12-01T13:15:38.233282Z",
     "start_time": "2024-12-01T13:15:38.228288Z"
    },
    "colab": {
     "base_uri": "https://localhost:8080/"
    },
    "executionInfo": {
     "elapsed": 337,
     "status": "ok",
     "timestamp": 1732804605296,
     "user": {
      "displayName": "Bence Fazekas",
      "userId": "07904134949574519221"
     },
     "user_tz": -60
    },
    "id": "2ummmbb49Coa",
    "outputId": "c18ef658-7269-416d-9b7d-ba0087f26de8"
   },
   "outputs": [],
   "source": [
    "import os\n",
    "import zipfile\n",
    "\n",
    "def unzip_files_in_root():\n",
    "    # Meghatározzuk a gyökérkönyvtárat (ahol a script/notebook fut)\n",
    "    root_directory = os.getcwd()\n",
    "\n",
    "    # Végigmegyünk az összes fájlon a gyökérkönyvtárban\n",
    "    for file_name in os.listdir(root_directory):\n",
    "        file_path = os.path.join(root_directory, file_name)\n",
    "\n",
    "        # Csak .zip fájlokat csomagolunk ki\n",
    "        if os.path.isfile(file_path) and file_name.endswith('.zip'):\n",
    "            # Létrehozzuk a kicsomagolási célmappát a zip fájl neve alapján (kiterjesztés nélkül)\n",
    "            extract_folder_name = os.path.splitext(file_name)[0]\n",
    "            extract_path = os.path.join(root_directory, extract_folder_name)\n",
    "\n",
    "            # Kicsomagoljuk a zip fájlt a megadott mappába\n",
    "            with zipfile.ZipFile(file_path, 'r') as zip_ref:\n",
    "                zip_ref.extractall(extract_path)\n",
    "            print(f\"'{file_name}' sikeresen kicsomagolva '{extract_folder_name}' mappába.\")\n",
    "\n",
    "    print(\"Az összes zip fájl kicsomagolása befejeződött.\")\n",
    "\n",
    "# Használat\n",
    "#unzip_files_in_root()\n"
   ]
  },
  {
   "cell_type": "code",
   "execution_count": 32,
   "metadata": {
    "ExecuteTime": {
     "end_time": "2024-12-01T13:15:38.262197Z",
     "start_time": "2024-12-01T13:15:38.257577Z"
    },
    "colab": {
     "base_uri": "https://localhost:8080/"
    },
    "executionInfo": {
     "elapsed": 3,
     "status": "ok",
     "timestamp": 1732804605518,
     "user": {
      "displayName": "Bence Fazekas",
      "userId": "07904134949574519221"
     },
     "user_tz": -60
    },
    "id": "Z-_s76Ax-0_A",
    "outputId": "15f636ff-23f1-453c-f8fc-dfe9aaa2ebac"
   },
   "outputs": [],
   "source": [
    "import os\n",
    "\n",
    "def delete_zip_files_in_root():\n",
    "    # Meghatározzuk a gyökérkönyvtárat (ahol a script/notebook fut)\n",
    "    root_directory = os.getcwd()\n",
    "\n",
    "    # Végigmegyünk az összes fájlon a gyökérkönyvtárban\n",
    "    for file_name in os.listdir(root_directory):\n",
    "        file_path = os.path.join(root_directory, file_name)\n",
    "\n",
    "        # Csak .zip fájlokat törlünk\n",
    "        if os.path.isfile(file_path) and file_name.endswith('.zip'):\n",
    "            try:\n",
    "                os.remove(file_path)\n",
    "                print(f\"'{file_name}' sikeresen törölve.\")\n",
    "            except Exception as e:\n",
    "                print(f\"Hiba történt '{file_name}' törlésekor: {e}\")\n",
    "\n",
    "    print(\"Az összes zip fájl törlése befejeződött.\")\n",
    "\n",
    "# Használat\n",
    "#delete_zip_files_in_root()\n"
   ]
  },
  {
   "cell_type": "code",
   "execution_count": null,
   "metadata": {
    "ExecuteTime": {
     "end_time": "2024-12-01T13:19:58.073007Z",
     "start_time": "2024-12-01T13:19:52.619712Z"
    },
    "colab": {
     "base_uri": "https://localhost:8080/",
     "height": 178
    },
    "executionInfo": {
     "elapsed": 15147,
     "status": "ok",
     "timestamp": 1732804620663,
     "user": {
      "displayName": "Bence Fazekas",
      "userId": "07904134949574519221"
     },
     "user_tz": -60
    },
    "id": "wkRBmvUvwg6I",
    "outputId": "79ebfccb-246d-4ccf-a82e-29c0e61a8f9f"
   },
   "outputs": [
    {
     "data": {
      "text/plain": [
       "poisonous\n",
       "0    6218\n",
       "1     190\n",
       "Name: count, dtype: int64"
      ]
     },
     "execution_count": 33,
     "metadata": {},
     "output_type": "execute_result"
    }
   ],
   "source": [
    "import tensorflow as tf\n",
    "import pandas as pd\n",
    "from keras import layers, Model, Input\n",
    "from keras.optimizers import Adam\n",
    "from keras.utils import to_categorical\n",
    "from keras.api.applications import EfficientNetB1\n",
    "from keras.api.applications.vgg19 import preprocess_input, decode_predictions\n",
    "from keras.api.layers import Dense, Flatten, Dropout, Activation,GlobalAveragePooling2D,Lambda, RandomRotation, RandomZoom, RandomFlip, RandomTranslation\n",
    "\n",
    "# CSV betöltése\n",
    "data_dir_train = \"./train_data\"  # A képek könyvtára\n",
    "labels_train_df = pd.read_csv(\"./encoded_species_train.csv\", sep=';',encoding=\"utf-8\")  # Címkék CSV fájl\n",
    "data_dir_valid = \"./valid_data\"\n",
    "labels_valid_df = pd.read_csv(\"./encoded_species_valid.csv\", sep=',',encoding=\"utf-8\")  # Címkék CSV fájl\n",
    "\n",
    "labels_train_df['poisonous'].value_counts()\n",
    "labels_valid_df['poisonous'].value_counts()\n"
   ]
  },
  {
   "cell_type": "code",
   "execution_count": 34,
   "metadata": {
    "ExecuteTime": {
     "end_time": "2024-12-01T13:20:04.211238Z",
     "start_time": "2024-12-01T13:20:04.204229Z"
    }
   },
   "outputs": [
    {
     "data": {
      "text/plain": [
       "poisonous\n",
       "0    35706\n",
       "1     1137\n",
       "Name: count, dtype: int64"
      ]
     },
     "execution_count": 34,
     "metadata": {},
     "output_type": "execute_result"
    }
   ],
   "source": [
    "labels_train_df['poisonous'].value_counts()"
   ]
  },
  {
   "cell_type": "code",
   "execution_count": 35,
   "metadata": {
    "ExecuteTime": {
     "end_time": "2024-12-01T13:20:06.086555Z",
     "start_time": "2024-12-01T13:20:06.078768Z"
    }
   },
   "outputs": [
    {
     "data": {
      "text/html": [
       "<div>\n",
       "<style scoped>\n",
       "    .dataframe tbody tr th:only-of-type {\n",
       "        vertical-align: middle;\n",
       "    }\n",
       "\n",
       "    .dataframe tbody tr th {\n",
       "        vertical-align: top;\n",
       "    }\n",
       "\n",
       "    .dataframe thead th {\n",
       "        text-align: right;\n",
       "    }\n",
       "</style>\n",
       "<table border=\"1\" class=\"dataframe\">\n",
       "  <thead>\n",
       "    <tr style=\"text-align: right;\">\n",
       "      <th></th>\n",
       "      <th>image_path</th>\n",
       "      <th>species_encoded</th>\n",
       "      <th>poisonous</th>\n",
       "    </tr>\n",
       "  </thead>\n",
       "  <tbody>\n",
       "    <tr>\n",
       "      <th>0</th>\n",
       "      <td>2238546328-30620.JPG</td>\n",
       "      <td>82</td>\n",
       "      <td>0</td>\n",
       "    </tr>\n",
       "    <tr>\n",
       "      <th>1</th>\n",
       "      <td>2558871973-53941.JPG</td>\n",
       "      <td>43</td>\n",
       "      <td>0</td>\n",
       "    </tr>\n",
       "    <tr>\n",
       "      <th>2</th>\n",
       "      <td>2238503501-245559.JPG</td>\n",
       "      <td>31</td>\n",
       "      <td>0</td>\n",
       "    </tr>\n",
       "    <tr>\n",
       "      <th>3</th>\n",
       "      <td>2446759075-197643.JPG</td>\n",
       "      <td>53</td>\n",
       "      <td>0</td>\n",
       "    </tr>\n",
       "    <tr>\n",
       "      <th>4</th>\n",
       "      <td>2238472345-167057.JPG</td>\n",
       "      <td>85</td>\n",
       "      <td>0</td>\n",
       "    </tr>\n",
       "    <tr>\n",
       "      <th>...</th>\n",
       "      <td>...</td>\n",
       "      <td>...</td>\n",
       "      <td>...</td>\n",
       "    </tr>\n",
       "    <tr>\n",
       "      <th>36838</th>\n",
       "      <td>2446757906-271276.JPG</td>\n",
       "      <td>11</td>\n",
       "      <td>0</td>\n",
       "    </tr>\n",
       "    <tr>\n",
       "      <th>36839</th>\n",
       "      <td>2383042711-265797.JPG</td>\n",
       "      <td>76</td>\n",
       "      <td>0</td>\n",
       "    </tr>\n",
       "    <tr>\n",
       "      <th>36840</th>\n",
       "      <td>2868483523-65487.JPG</td>\n",
       "      <td>49</td>\n",
       "      <td>0</td>\n",
       "    </tr>\n",
       "    <tr>\n",
       "      <th>36841</th>\n",
       "      <td>2864909440-212519.JPG</td>\n",
       "      <td>74</td>\n",
       "      <td>0</td>\n",
       "    </tr>\n",
       "    <tr>\n",
       "      <th>36842</th>\n",
       "      <td>2458346981-273596.JPG</td>\n",
       "      <td>63</td>\n",
       "      <td>0</td>\n",
       "    </tr>\n",
       "  </tbody>\n",
       "</table>\n",
       "<p>36843 rows × 3 columns</p>\n",
       "</div>"
      ],
      "text/plain": [
       "                  image_path  species_encoded  poisonous\n",
       "0       2238546328-30620.JPG               82          0\n",
       "1       2558871973-53941.JPG               43          0\n",
       "2      2238503501-245559.JPG               31          0\n",
       "3      2446759075-197643.JPG               53          0\n",
       "4      2238472345-167057.JPG               85          0\n",
       "...                      ...              ...        ...\n",
       "36838  2446757906-271276.JPG               11          0\n",
       "36839  2383042711-265797.JPG               76          0\n",
       "36840   2868483523-65487.JPG               49          0\n",
       "36841  2864909440-212519.JPG               74          0\n",
       "36842  2458346981-273596.JPG               63          0\n",
       "\n",
       "[36843 rows x 3 columns]"
      ]
     },
     "execution_count": 35,
     "metadata": {},
     "output_type": "execute_result"
    }
   ],
   "source": [
    "labels_train_df"
   ]
  },
  {
   "cell_type": "code",
   "execution_count": 36,
   "metadata": {
    "ExecuteTime": {
     "end_time": "2024-12-01T13:20:06.774524Z",
     "start_time": "2024-12-01T13:20:06.767681Z"
    }
   },
   "outputs": [
    {
     "data": {
      "text/html": [
       "<div>\n",
       "<style scoped>\n",
       "    .dataframe tbody tr th:only-of-type {\n",
       "        vertical-align: middle;\n",
       "    }\n",
       "\n",
       "    .dataframe tbody tr th {\n",
       "        vertical-align: top;\n",
       "    }\n",
       "\n",
       "    .dataframe thead th {\n",
       "        text-align: right;\n",
       "    }\n",
       "</style>\n",
       "<table border=\"1\" class=\"dataframe\">\n",
       "  <thead>\n",
       "    <tr style=\"text-align: right;\">\n",
       "      <th></th>\n",
       "      <th>image_path</th>\n",
       "      <th>species_encoded</th>\n",
       "      <th>poisonous</th>\n",
       "    </tr>\n",
       "  </thead>\n",
       "  <tbody>\n",
       "    <tr>\n",
       "      <th>0</th>\n",
       "      <td>0-3008834345.JPG</td>\n",
       "      <td>32</td>\n",
       "      <td>0</td>\n",
       "    </tr>\n",
       "    <tr>\n",
       "      <th>1</th>\n",
       "      <td>1-3008834345.JPG</td>\n",
       "      <td>32</td>\n",
       "      <td>0</td>\n",
       "    </tr>\n",
       "    <tr>\n",
       "      <th>2</th>\n",
       "      <td>0-3008834364.JPG</td>\n",
       "      <td>54</td>\n",
       "      <td>0</td>\n",
       "    </tr>\n",
       "    <tr>\n",
       "      <th>3</th>\n",
       "      <td>1-3008834364.JPG</td>\n",
       "      <td>54</td>\n",
       "      <td>0</td>\n",
       "    </tr>\n",
       "    <tr>\n",
       "      <th>4</th>\n",
       "      <td>2-3008834364.JPG</td>\n",
       "      <td>54</td>\n",
       "      <td>0</td>\n",
       "    </tr>\n",
       "    <tr>\n",
       "      <th>...</th>\n",
       "      <td>...</td>\n",
       "      <td>...</td>\n",
       "      <td>...</td>\n",
       "    </tr>\n",
       "    <tr>\n",
       "      <th>6403</th>\n",
       "      <td>4-3024144356.JPG</td>\n",
       "      <td>63</td>\n",
       "      <td>0</td>\n",
       "    </tr>\n",
       "    <tr>\n",
       "      <th>6404</th>\n",
       "      <td>0-3024144386.JPG</td>\n",
       "      <td>24</td>\n",
       "      <td>0</td>\n",
       "    </tr>\n",
       "    <tr>\n",
       "      <th>6405</th>\n",
       "      <td>1-3024144386.JPG</td>\n",
       "      <td>24</td>\n",
       "      <td>0</td>\n",
       "    </tr>\n",
       "    <tr>\n",
       "      <th>6406</th>\n",
       "      <td>2-3024144386.JPG</td>\n",
       "      <td>24</td>\n",
       "      <td>0</td>\n",
       "    </tr>\n",
       "    <tr>\n",
       "      <th>6407</th>\n",
       "      <td>0-3032619341.JPG</td>\n",
       "      <td>60</td>\n",
       "      <td>0</td>\n",
       "    </tr>\n",
       "  </tbody>\n",
       "</table>\n",
       "<p>6408 rows × 3 columns</p>\n",
       "</div>"
      ],
      "text/plain": [
       "            image_path  species_encoded  poisonous\n",
       "0     0-3008834345.JPG               32          0\n",
       "1     1-3008834345.JPG               32          0\n",
       "2     0-3008834364.JPG               54          0\n",
       "3     1-3008834364.JPG               54          0\n",
       "4     2-3008834364.JPG               54          0\n",
       "...                ...              ...        ...\n",
       "6403  4-3024144356.JPG               63          0\n",
       "6404  0-3024144386.JPG               24          0\n",
       "6405  1-3024144386.JPG               24          0\n",
       "6406  2-3024144386.JPG               24          0\n",
       "6407  0-3032619341.JPG               60          0\n",
       "\n",
       "[6408 rows x 3 columns]"
      ]
     },
     "execution_count": 36,
     "metadata": {},
     "output_type": "execute_result"
    }
   ],
   "source": [
    "labels_valid_df"
   ]
  },
  {
   "cell_type": "code",
   "execution_count": 37,
   "metadata": {
    "ExecuteTime": {
     "end_time": "2024-12-01T13:20:13.238104Z",
     "start_time": "2024-12-01T13:20:12.468999Z"
    },
    "id": "I_plERYPo_OY"
   },
   "outputs": [],
   "source": [
    "from keras.api.models import Model, Sequential\n",
    "from keras import layers\n",
    "import keras\n",
    "import tensorflow as tf\n",
    "import matplotlib.pyplot as plt"
   ]
  },
  {
   "cell_type": "code",
   "execution_count": 38,
   "metadata": {
    "ExecuteTime": {
     "end_time": "2024-12-01T13:20:14.695587Z",
     "start_time": "2024-12-01T13:20:14.683094Z"
    },
    "id": "PFbzTFrWzOcs"
   },
   "outputs": [],
   "source": [
    "# Címkék és file path-ek betöltése\n",
    "file_paths_train = [f\"{data_dir_train}/{fname}\" for fname in labels_train_df[\"image_path\"]]\n",
    "species_labels_train = labels_train_df[\"species_encoded\"].values  # Többosztályos címkék\n",
    "toxicity_labels_train = labels_train_df[\"poisonous\"].values  # Bináris címkék\n",
    "\n",
    "file_paths_valid = [f\"{data_dir_valid}/{fname}\" for fname in labels_valid_df[\"image_path\"]]\n",
    "species_labels_valid = labels_valid_df[\"species_encoded\"].values  # Többosztályos címkék\n",
    "toxicity_labels_valid = labels_valid_df[\"poisonous\"].values  # Bináris címkék\n"
   ]
  },
  {
   "cell_type": "code",
   "execution_count": 39,
   "metadata": {
    "ExecuteTime": {
     "end_time": "2024-12-01T13:20:16.013640Z",
     "start_time": "2024-12-01T13:20:15.853849Z"
    },
    "colab": {
     "base_uri": "https://localhost:8080/"
    },
    "executionInfo": {
     "elapsed": 1520,
     "status": "ok",
     "timestamp": 1732804622181,
     "user": {
      "displayName": "Bence Fazekas",
      "userId": "07904134949574519221"
     },
     "user_tz": -60
    },
    "id": "C9huR1sDy9oW",
    "outputId": "02466a29-f5c6-4d9a-d831-33d9512cb9a1"
   },
   "outputs": [
    {
     "name": "stdout",
     "output_type": "stream",
     "text": [
      "4606\n",
      "801\n"
     ]
    }
   ],
   "source": [
    "# Egyéni adatbetöltő függvény\n",
    "def preprocess_image(filename, species_label, toxicity_label):\n",
    "    # Kép betöltése és átméretezése\n",
    "    image = tf.io.read_file(filename)\n",
    "    image = tf.image.decode_jpeg(image, channels=3)\n",
    "    image = tf.image.resize(image, (130, 130))\n",
    "    return image, {\"species\": species_label, \"toxicity\": toxicity_label}\n",
    "\n",
    "# TensorFlow dataset létrehozása\n",
    "file_paths_ds = tf.data.Dataset.from_tensor_slices((file_paths_train, species_labels_train, toxicity_labels_train))\n",
    "dataset = file_paths_ds.map(preprocess_image)\n",
    "\n",
    "# Adat split (train és validation)\n",
    "train_size = int(len(file_paths_train))\n",
    "train_dataset = dataset.take(train_size).batch(8)\n",
    "\n",
    "print(len(train_dataset))\n",
    "\n",
    "file_paths_ds = tf.data.Dataset.from_tensor_slices((file_paths_valid, species_labels_valid, toxicity_labels_valid))\n",
    "dataset = file_paths_ds.map(preprocess_image)\n",
    "\n",
    "# Adat split (train és validation)\n",
    "valid_size = int(len(file_paths_valid))\n",
    "valid_dataset = dataset.take(valid_size).batch(8)\n",
    "\n",
    "print(len(valid_dataset))"
   ]
  },
  {
   "cell_type": "code",
   "execution_count": 40,
   "metadata": {
    "ExecuteTime": {
     "end_time": "2024-12-01T14:07:05.061521Z",
     "start_time": "2024-12-01T14:07:05.056884Z"
    },
    "id": "RoaPiyc5o_OZ"
   },
   "outputs": [],
   "source": [
    "from keras.callbacks import EarlyStopping\n",
    "\n",
    "early_stopping = EarlyStopping(\n",
    "    min_delta=0.01,\n",
    "    patience=5,\n",
    "    verbose=1,\n",
    "    mode='auto',\n",
    "    restore_best_weights=True\n",
    ")\n",
    "\n"
   ]
  },
  {
   "cell_type": "code",
   "execution_count": 41,
   "metadata": {
    "ExecuteTime": {
     "end_time": "2024-12-01T13:20:18.829671Z",
     "start_time": "2024-12-01T13:20:18.294654Z"
    },
    "id": "EZnb5YO1xjeq"
   },
   "outputs": [],
   "source": [
    "\n",
    "base_model = EfficientNetB1(weights='imagenet', include_top=False, input_shape=(130, 130, 3))\n",
    "\n",
    "for layer in base_model.layers:\n",
    "     layer.trainable = False"
   ]
  },
  {
   "cell_type": "code",
   "execution_count": null,
   "metadata": {
    "ExecuteTime": {
     "end_time": "2024-12-01T13:20:21.745997Z",
     "start_time": "2024-12-01T13:20:21.733966Z"
    },
    "id": "0jkKti4eo_Oa"
   },
   "outputs": [],
   "source": [
    "from keras.metrics import Precision, Recall\n",
    "from keras import backend as K\n",
    "\n",
    "\n",
    "precision = Precision()\n",
    "recall = Recall()\n",
    "\n",
    "def f1_score(y_true, y_pred):\n",
    "    p = precision(y_true, y_pred)\n",
    "    r = recall(y_true, y_pred)\n",
    "    return 2 * (p * r) / (p + r + K.epsilon())\n"
   ]
  },
  {
   "cell_type": "code",
   "execution_count": null,
   "metadata": {
    "ExecuteTime": {
     "end_time": "2024-12-01T13:20:23.862369Z",
     "start_time": "2024-12-01T13:20:23.857050Z"
    },
    "id": "Tpnj1M2Co_Ob"
   },
   "outputs": [],
   "source": [
    "\n",
    "c_PSC = tf.constant(100.0, dtype=tf.float32)  # Költség a mérgező tévesztésnél\n",
    "c_ESC = tf.constant(1.0, dtype=tf.float32)    # Költség a nem mérgező tévesztésnél\n",
    "\n",
    "\n",
    "def toxicity_confusion_loss(y_true, y_pred):\n",
    "    # y_true és y_pred bináris értékek, ahol a 0 = nem mérgező, és 1 = mérgező\n",
    "    confusion_cost = tf.where(\n",
    "        tf.logical_and(tf.equal(y_true, 1), tf.equal(tf.round(y_pred), 0)),  # mérgezőre nem mérgezőt tippeltünk\n",
    "        c_PSC,\n",
    "        tf.where(\n",
    "            tf.logical_and(tf.equal(y_true, 0), tf.equal(tf.round(y_pred), 1)),  # nem mérgezőre mérgezőt tippeltünk\n",
    "            c_ESC,\n",
    "            tf.constant(0.0, dtype=tf.float32)\n",
    "        )\n",
    "    )\n",
    "    # végül a bináris keresztentrópia + tévesztési hibafüggvényt adjuk vissza\n",
    "    base_loss = tf.keras.losses.binary_crossentropy(y_true, y_pred)\n",
    "    return base_loss + confusion_cost\n"
   ]
  },
  {
   "cell_type": "code",
   "execution_count": 44,
   "metadata": {
    "ExecuteTime": {
     "end_time": "2024-12-01T19:03:15.885270Z",
     "start_time": "2024-12-01T14:07:09.623300Z"
    },
    "colab": {
     "base_uri": "https://localhost:8080/"
    },
    "id": "GppSPJU6zBWw",
    "outputId": "50a567f5-9399-4627-9f3d-0c2e933e9b5c"
   },
   "outputs": [
    {
     "name": "stdout",
     "output_type": "stream",
     "text": [
      "Epoch 1/100\n",
      "\u001b[1m4606/4606\u001b[0m \u001b[32m━━━━━━━━━━━━━━━━━━━━\u001b[0m\u001b[37m\u001b[0m \u001b[1m904s\u001b[0m 191ms/step - loss: 6.5325 - species_accuracy: 0.2283 - species_loss: 3.1909 - toxicity_f1_score: 9.1983e-04 - toxicity_loss: 3.3416 - val_loss: 4.7981 - val_species_accuracy: 0.4707 - val_species_loss: 1.9875 - val_toxicity_f1_score: 0.0328 - val_toxicity_loss: 2.8106\n",
      "Epoch 2/100\n",
      "\u001b[1m4606/4606\u001b[0m \u001b[32m━━━━━━━━━━━━━━━━━━━━\u001b[0m\u001b[37m\u001b[0m \u001b[1m824s\u001b[0m 179ms/step - loss: 5.3577 - species_accuracy: 0.4185 - species_loss: 2.1728 - toxicity_f1_score: 0.0487 - toxicity_loss: 3.1849 - val_loss: 4.4951 - val_species_accuracy: 0.5192 - val_species_loss: 1.7974 - val_toxicity_f1_score: 0.0721 - val_toxicity_loss: 2.6977\n",
      "Epoch 3/100\n",
      "\u001b[1m4606/4606\u001b[0m \u001b[32m━━━━━━━━━━━━━━━━━━━━\u001b[0m\u001b[37m\u001b[0m \u001b[1m901s\u001b[0m 196ms/step - loss: 5.0078 - species_accuracy: 0.4656 - species_loss: 1.9640 - toxicity_f1_score: 0.0853 - toxicity_loss: 3.0438 - val_loss: 4.3677 - val_species_accuracy: 0.5423 - val_species_loss: 1.6892 - val_toxicity_f1_score: 0.1121 - val_toxicity_loss: 2.6785\n",
      "Epoch 4/100\n",
      "\u001b[1m4606/4606\u001b[0m \u001b[32m━━━━━━━━━━━━━━━━━━━━\u001b[0m\u001b[37m\u001b[0m \u001b[1m903s\u001b[0m 196ms/step - loss: 4.7427 - species_accuracy: 0.5006 - species_loss: 1.8306 - toxicity_f1_score: 0.1221 - toxicity_loss: 2.9121 - val_loss: 4.2002 - val_species_accuracy: 0.5467 - val_species_loss: 1.6669 - val_toxicity_f1_score: 0.1452 - val_toxicity_loss: 2.5333\n",
      "Epoch 5/100\n",
      "\u001b[1m4606/4606\u001b[0m \u001b[32m━━━━━━━━━━━━━━━━━━━━\u001b[0m\u001b[37m\u001b[0m \u001b[1m876s\u001b[0m 190ms/step - loss: 4.5671 - species_accuracy: 0.5189 - species_loss: 1.7472 - toxicity_f1_score: 0.1540 - toxicity_loss: 2.8200 - val_loss: 3.8643 - val_species_accuracy: 0.5679 - val_species_loss: 1.6176 - val_toxicity_f1_score: 0.1743 - val_toxicity_loss: 2.2467\n",
      "Epoch 6/100\n",
      "\u001b[1m4606/4606\u001b[0m \u001b[32m━━━━━━━━━━━━━━━━━━━━\u001b[0m\u001b[37m\u001b[0m \u001b[1m727s\u001b[0m 158ms/step - loss: 4.3250 - species_accuracy: 0.5364 - species_loss: 1.6642 - toxicity_f1_score: 0.1845 - toxicity_loss: 2.6608 - val_loss: 4.0557 - val_species_accuracy: 0.5632 - val_species_loss: 1.5985 - val_toxicity_f1_score: 0.2018 - val_toxicity_loss: 2.4572\n",
      "Epoch 7/100\n",
      "\u001b[1m4606/4606\u001b[0m \u001b[32m━━━━━━━━━━━━━━━━━━━━\u001b[0m\u001b[37m\u001b[0m \u001b[1m780s\u001b[0m 169ms/step - loss: 4.2533 - species_accuracy: 0.5484 - species_loss: 1.6185 - toxicity_f1_score: 0.2078 - toxicity_loss: 2.6348 - val_loss: 4.0058 - val_species_accuracy: 0.5744 - val_species_loss: 1.5825 - val_toxicity_f1_score: 0.2242 - val_toxicity_loss: 2.4233\n",
      "Epoch 8/100\n",
      "\u001b[1m4606/4606\u001b[0m \u001b[32m━━━━━━━━━━━━━━━━━━━━\u001b[0m\u001b[37m\u001b[0m \u001b[1m808s\u001b[0m 175ms/step - loss: 3.9702 - species_accuracy: 0.5597 - species_loss: 1.5570 - toxicity_f1_score: 0.2317 - toxicity_loss: 2.4132 - val_loss: 3.9965 - val_species_accuracy: 0.5715 - val_species_loss: 1.5898 - val_toxicity_f1_score: 0.2498 - val_toxicity_loss: 2.4067\n",
      "Epoch 9/100\n",
      "\u001b[1m4606/4606\u001b[0m \u001b[32m━━━━━━━━━━━━━━━━━━━━\u001b[0m\u001b[37m\u001b[0m \u001b[1m816s\u001b[0m 177ms/step - loss: 3.9510 - species_accuracy: 0.5751 - species_loss: 1.4999 - toxicity_f1_score: 0.2547 - toxicity_loss: 2.4511 - val_loss: 3.6156 - val_species_accuracy: 0.5841 - val_species_loss: 1.5585 - val_toxicity_f1_score: 0.2702 - val_toxicity_loss: 2.0570\n",
      "Epoch 10/100\n",
      "\u001b[1m4606/4606\u001b[0m \u001b[32m━━━━━━━━━━━━━━━━━━━━\u001b[0m\u001b[37m\u001b[0m \u001b[1m883s\u001b[0m 192ms/step - loss: 3.7320 - species_accuracy: 0.5871 - species_loss: 1.4464 - toxicity_f1_score: 0.2762 - toxicity_loss: 2.2856 - val_loss: 3.6624 - val_species_accuracy: 0.5811 - val_species_loss: 1.5614 - val_toxicity_f1_score: 0.2925 - val_toxicity_loss: 2.1010\n",
      "Epoch 11/100\n",
      "\u001b[1m4606/4606\u001b[0m \u001b[32m━━━━━━━━━━━━━━━━━━━━\u001b[0m\u001b[37m\u001b[0m \u001b[1m895s\u001b[0m 194ms/step - loss: 3.7082 - species_accuracy: 0.5988 - species_loss: 1.4106 - toxicity_f1_score: 0.2970 - toxicity_loss: 2.2976 - val_loss: 3.4088 - val_species_accuracy: 0.5897 - val_species_loss: 1.5359 - val_toxicity_f1_score: 0.3094 - val_toxicity_loss: 1.8728\n",
      "Epoch 12/100\n",
      "\u001b[1m4606/4606\u001b[0m \u001b[32m━━━━━━━━━━━━━━━━━━━━\u001b[0m\u001b[37m\u001b[0m \u001b[1m1031s\u001b[0m 224ms/step - loss: 3.6766 - species_accuracy: 0.6063 - species_loss: 1.3723 - toxicity_f1_score: 0.3133 - toxicity_loss: 2.3043 - val_loss: 3.8179 - val_species_accuracy: 0.5904 - val_species_loss: 1.6065 - val_toxicity_f1_score: 0.3228 - val_toxicity_loss: 2.2114\n",
      "Epoch 13/100\n",
      "\u001b[1m4606/4606\u001b[0m \u001b[32m━━━━━━━━━━━━━━━━━━━━\u001b[0m\u001b[37m\u001b[0m \u001b[1m944s\u001b[0m 205ms/step - loss: 3.5751 - species_accuracy: 0.6124 - species_loss: 1.3363 - toxicity_f1_score: 0.3259 - toxicity_loss: 2.2388 - val_loss: 3.6625 - val_species_accuracy: 0.5905 - val_species_loss: 1.5634 - val_toxicity_f1_score: 0.3357 - val_toxicity_loss: 2.0991\n",
      "Epoch 14/100\n",
      "\u001b[1m4606/4606\u001b[0m \u001b[32m━━━━━━━━━━━━━━━━━━━━\u001b[0m\u001b[37m\u001b[0m \u001b[1m1035s\u001b[0m 225ms/step - loss: 3.4712 - species_accuracy: 0.6197 - species_loss: 1.3036 - toxicity_f1_score: 0.3390 - toxicity_loss: 2.1676 - val_loss: 3.6871 - val_species_accuracy: 0.5883 - val_species_loss: 1.5864 - val_toxicity_f1_score: 0.3475 - val_toxicity_loss: 2.1007\n",
      "Epoch 15/100\n",
      "\u001b[1m4606/4606\u001b[0m \u001b[32m━━━━━━━━━━━━━━━━━━━━\u001b[0m\u001b[37m\u001b[0m \u001b[1m1019s\u001b[0m 221ms/step - loss: 3.4632 - species_accuracy: 0.6268 - species_loss: 1.2962 - toxicity_f1_score: 0.3502 - toxicity_loss: 2.1670 - val_loss: 3.8387 - val_species_accuracy: 0.5938 - val_species_loss: 1.5450 - val_toxicity_f1_score: 0.3594 - val_toxicity_loss: 2.2938\n",
      "Epoch 16/100\n",
      "\u001b[1m4606/4606\u001b[0m \u001b[32m━━━━━━━━━━━━━━━━━━━━\u001b[0m\u001b[37m\u001b[0m \u001b[1m1043s\u001b[0m 226ms/step - loss: 3.2532 - species_accuracy: 0.6358 - species_loss: 1.2599 - toxicity_f1_score: 0.3623 - toxicity_loss: 1.9933 - val_loss: 3.7041 - val_species_accuracy: 0.5932 - val_species_loss: 1.5699 - val_toxicity_f1_score: 0.3706 - val_toxicity_loss: 2.1342\n",
      "Epoch 16: early stopping\n",
      "Restoring model weights from the end of the best epoch: 11.\n"
     ]
    }
   ],
   "source": [
    "# 2. Modell felépítése\n",
    "def build_multitask_model(input_shape):\n",
    "\n",
    "    data_augmentation = Sequential([\n",
    "    RandomRotation(0.2),       # Forgatás ±20%-kal\n",
    "    RandomFlip(\"horizontal\"),  # Vízszintes tükrözés\n",
    "    ])\n",
    "\n",
    "    x = data_augmentation(base_model.input)\n",
    "    x = base_model(inputs=x)\n",
    "    x = GlobalAveragePooling2D()(x)\n",
    "    x = Flatten()(x)\n",
    "    x = Dense(1024, activation='relu')(x)\n",
    "    x = Dropout(0.25)(x)\n",
    "\n",
    "    # Faj osztályozó fej\n",
    "    species_head = Dense(1024, activation='relu')(x)\n",
    "    species_head = Dropout(0.25)(species_head)\n",
    "    species_head = Dense(1024, activation='relu')(species_head)\n",
    "    species_output = layers.Dense(100, activation=\"softmax\", name=\"species\")(species_head)\n",
    "\n",
    "    # Mérgezőség osztályozó fej\n",
    "    toxicity_head = Dense(1024, activation='relu')(x)\n",
    "    toxicity_head = Dropout(0.25)(toxicity_head)\n",
    "    toxicity_head = layers.Dense(1024, activation=\"relu\")(toxicity_head)\n",
    "    toxicity_output = layers.Dense(1, activation=\"sigmoid\", name=\"toxicity\")(toxicity_head)\n",
    "\n",
    "    model = Model(inputs=base_model.input, outputs=[species_output, toxicity_output])\n",
    "    return model\n",
    "\n",
    "input_shape = (130, 130, 3)\n",
    "model = build_multitask_model(input_shape)\n",
    "\n",
    "# 3. Modell összeállítása\n",
    "model.compile(\n",
    "    optimizer=keras.optimizers.Adam(learning_rate=0.000175),\n",
    "    loss={\n",
    "        \"species\": \"sparse_categorical_crossentropy\",\n",
    "        \"toxicity\": toxicity_confusion_loss\n",
    "    },\n",
    "    metrics={\n",
    "        \"species\": \"accuracy\",\n",
    "        \"toxicity\": f1_score\n",
    "    }\n",
    ")\n",
    "# 4. Modell tanítása\n",
    "history = model.fit(\n",
    "    train_dataset,\n",
    "    validation_data=valid_dataset,\n",
    "    callbacks = [early_stopping],\n",
    "    epochs=100\n",
    ")\n"
   ]
  },
  {
   "cell_type": "code",
   "execution_count": 45,
   "metadata": {
    "ExecuteTime": {
     "end_time": "2024-12-01T19:19:29.737159Z",
     "start_time": "2024-12-01T19:19:29.580220Z"
    },
    "id": "8IvHi8WHo_Ob"
   },
   "outputs": [
    {
     "name": "stdout",
     "output_type": "stream",
     "text": [
      "Minimum validation loss: 3.408757209777832\n"
     ]
    },
    {
     "data": {
      "image/png": "[encoded data removed]",
      "text/plain": [
       "<Figure size 640x480 with 1 Axes>"
      ]
     },
     "metadata": {},
     "output_type": "display_data"
    }
   ],
   "source": [
    "history_df = pd.DataFrame(history.history)\n",
    "history_df.loc[:, ['loss', 'val_loss']].plot();\n",
    "print(\"Minimum validation loss: {}\".format(history_df['val_loss'].min()))"
   ]
  },
  {
   "cell_type": "code",
   "execution_count": null,
   "metadata": {
    "ExecuteTime": {
     "end_time": "2024-12-01T13:18:42.638666Z",
     "start_time": "2024-12-01T13:18:42.638666Z"
    },
    "id": "YzWbPrH2o_Oc"
   },
   "outputs": [],
   "source": []
  },
  {
   "cell_type": "code",
   "execution_count": null,
   "metadata": {
    "ExecuteTime": {
     "end_time": "2024-12-01T13:18:42.640054Z",
     "start_time": "2024-12-01T13:18:42.640054Z"
    },
    "id": "Edxn_534o_Oc"
   },
   "outputs": [],
   "source": []
  }
 ],
 "metadata": {
  "accelerator": "GPU",
  "colab": {
   "gpuType": "T4",
   "provenance": []
  },
  "kernelspec": {
   "display_name": "base",
   "language": "python",
   "name": "python3"
  },
  "language_info": {
   "codemirror_mode": {
    "name": "ipython",
    "version": 3
   },
   "file_extension": ".py",
   "mimetype": "text/x-python",
   "name": "python",
   "nbconvert_exporter": "python",
   "pygments_lexer": "ipython3",
   "version": "3.12.3"
  }
 },
 "nbformat": 4,
 "nbformat_minor": 0
}
