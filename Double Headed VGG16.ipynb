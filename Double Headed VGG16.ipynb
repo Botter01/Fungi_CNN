{
 "cells": [
  {
   "cell_type": "code",
   "execution_count": 65,
   "metadata": {
    "ExecuteTime": {
     "end_time": "2024-12-01T13:15:38.233282Z",
     "start_time": "2024-12-01T13:15:38.228288Z"
    },
    "colab": {
     "base_uri": "https://localhost:8080/"
    },
    "executionInfo": {
     "elapsed": 337,
     "status": "ok",
     "timestamp": 1732804605296,
     "user": {
      "displayName": "Bence Fazekas",
      "userId": "07904134949574519221"
     },
     "user_tz": -60
    },
    "id": "2ummmbb49Coa",
    "outputId": "c18ef658-7269-416d-9b7d-ba0087f26de8"
   },
   "outputs": [],
   "source": [
    "import os\n",
    "import zipfile\n",
    "\n",
    "def unzip_files_in_root():\n",
    "    # Meghatározzuk a gyökérkönyvtárat (ahol a script/notebook fut)\n",
    "    root_directory = os.getcwd()\n",
    "\n",
    "    # Végigmegyünk az összes fájlon a gyökérkönyvtárban\n",
    "    for file_name in os.listdir(root_directory):\n",
    "        file_path = os.path.join(root_directory, file_name)\n",
    "\n",
    "        # Csak .zip fájlokat csomagolunk ki\n",
    "        if os.path.isfile(file_path) and file_name.endswith('.zip'):\n",
    "            # Létrehozzuk a kicsomagolási célmappát a zip fájl neve alapján (kiterjesztés nélkül)\n",
    "            extract_folder_name = os.path.splitext(file_name)[0]\n",
    "            extract_path = os.path.join(root_directory, extract_folder_name)\n",
    "\n",
    "            # Kicsomagoljuk a zip fájlt a megadott mappába\n",
    "            with zipfile.ZipFile(file_path, 'r') as zip_ref:\n",
    "                zip_ref.extractall(extract_path)\n",
    "            print(f\"'{file_name}' sikeresen kicsomagolva '{extract_folder_name}' mappába.\")\n",
    "\n",
    "    print(\"Az összes zip fájl kicsomagolása befejeződött.\")\n",
    "\n",
    "# Használat\n",
    "#unzip_files_in_root()\n"
   ]
  },
  {
   "cell_type": "code",
   "execution_count": 66,
   "metadata": {
    "ExecuteTime": {
     "end_time": "2024-12-01T13:15:38.262197Z",
     "start_time": "2024-12-01T13:15:38.257577Z"
    },
    "colab": {
     "base_uri": "https://localhost:8080/"
    },
    "executionInfo": {
     "elapsed": 3,
     "status": "ok",
     "timestamp": 1732804605518,
     "user": {
      "displayName": "Bence Fazekas",
      "userId": "07904134949574519221"
     },
     "user_tz": -60
    },
    "id": "Z-_s76Ax-0_A",
    "outputId": "15f636ff-23f1-453c-f8fc-dfe9aaa2ebac"
   },
   "outputs": [],
   "source": [
    "import os\n",
    "\n",
    "def delete_zip_files_in_root():\n",
    "    # Meghatározzuk a gyökérkönyvtárat (ahol a script/notebook fut)\n",
    "    root_directory = os.getcwd()\n",
    "\n",
    "    # Végigmegyünk az összes fájlon a gyökérkönyvtárban\n",
    "    for file_name in os.listdir(root_directory):\n",
    "        file_path = os.path.join(root_directory, file_name)\n",
    "\n",
    "        # Csak .zip fájlokat törlünk\n",
    "        if os.path.isfile(file_path) and file_name.endswith('.zip'):\n",
    "            try:\n",
    "                os.remove(file_path)\n",
    "                print(f\"'{file_name}' sikeresen törölve.\")\n",
    "            except Exception as e:\n",
    "                print(f\"Hiba történt '{file_name}' törlésekor: {e}\")\n",
    "\n",
    "    print(\"Az összes zip fájl törlése befejeződött.\")\n",
    "\n",
    "# Használat\n",
    "#delete_zip_files_in_root()\n"
   ]
  },
  {
   "cell_type": "code",
   "execution_count": 2,
   "metadata": {
    "ExecuteTime": {
     "end_time": "2024-12-01T13:19:58.073007Z",
     "start_time": "2024-12-01T13:19:52.619712Z"
    },
    "colab": {
     "base_uri": "https://localhost:8080/",
     "height": 178
    },
    "executionInfo": {
     "elapsed": 15147,
     "status": "ok",
     "timestamp": 1732804620663,
     "user": {
      "displayName": "Bence Fazekas",
      "userId": "07904134949574519221"
     },
     "user_tz": -60
    },
    "id": "wkRBmvUvwg6I",
    "outputId": "79ebfccb-246d-4ccf-a82e-29c0e61a8f9f"
   },
   "outputs": [
    {
     "data": {
      "text/plain": [
       "poisonous\n",
       "0    6218\n",
       "1     190\n",
       "Name: count, dtype: int64"
      ]
     },
     "execution_count": 2,
     "metadata": {},
     "output_type": "execute_result"
    }
   ],
   "source": [
    "import tensorflow as tf\n",
    "import pandas as pd\n",
    "from keras import layers, Model, Input\n",
    "from keras.optimizers import Adam\n",
    "from keras.utils import to_categorical\n",
    "from keras.api.applications.vgg16 import VGG16\n",
    "from keras.api.applications.vgg19 import preprocess_input, decode_predictions\n",
    "from keras.api.layers import Dense, Flatten, Dropout, Activation,GlobalAveragePooling2D,Lambda, RandomRotation, RandomZoom, RandomFlip, RandomTranslation\n",
    "\n",
    "# 1. Adatok előkészítése\n",
    "# CSV betöltése\n",
    "data_dir_train = \"./train_data\"  # A képek könyvtára\n",
    "labels_train_df = pd.read_csv(\"./encoded_species_train.csv\", sep=';',encoding=\"utf-8\")  # Címkék CSV fájl\n",
    "data_dir_valid = \"./valid_data\"\n",
    "labels_valid_df = pd.read_csv(\"./encoded_species_valid.csv\", sep=',',encoding=\"utf-8\")  # Címkék CSV fájl\n",
    "\n",
    "labels_train_df['poisonous'].value_counts()\n",
    "labels_valid_df['poisonous'].value_counts()\n"
   ]
  },
  {
   "cell_type": "code",
   "execution_count": 3,
   "metadata": {
    "ExecuteTime": {
     "end_time": "2024-12-01T13:20:04.211238Z",
     "start_time": "2024-12-01T13:20:04.204229Z"
    }
   },
   "outputs": [
    {
     "data": {
      "text/plain": [
       "poisonous\n",
       "0    35706\n",
       "1     1137\n",
       "Name: count, dtype: int64"
      ]
     },
     "execution_count": 3,
     "metadata": {},
     "output_type": "execute_result"
    }
   ],
   "source": [
    "labels_train_df['poisonous'].value_counts()"
   ]
  },
  {
   "cell_type": "code",
   "execution_count": 4,
   "metadata": {
    "ExecuteTime": {
     "end_time": "2024-12-01T13:20:06.086555Z",
     "start_time": "2024-12-01T13:20:06.078768Z"
    }
   },
   "outputs": [
    {
     "data": {
      "text/html": [
       "<div>\n",
       "<style scoped>\n",
       "    .dataframe tbody tr th:only-of-type {\n",
       "        vertical-align: middle;\n",
       "    }\n",
       "\n",
       "    .dataframe tbody tr th {\n",
       "        vertical-align: top;\n",
       "    }\n",
       "\n",
       "    .dataframe thead th {\n",
       "        text-align: right;\n",
       "    }\n",
       "</style>\n",
       "<table border=\"1\" class=\"dataframe\">\n",
       "  <thead>\n",
       "    <tr style=\"text-align: right;\">\n",
       "      <th></th>\n",
       "      <th>image_path</th>\n",
       "      <th>species_encoded</th>\n",
       "      <th>poisonous</th>\n",
       "    </tr>\n",
       "  </thead>\n",
       "  <tbody>\n",
       "    <tr>\n",
       "      <th>0</th>\n",
       "      <td>2238546328-30620.JPG</td>\n",
       "      <td>82</td>\n",
       "      <td>0</td>\n",
       "    </tr>\n",
       "    <tr>\n",
       "      <th>1</th>\n",
       "      <td>2558871973-53941.JPG</td>\n",
       "      <td>43</td>\n",
       "      <td>0</td>\n",
       "    </tr>\n",
       "    <tr>\n",
       "      <th>2</th>\n",
       "      <td>2238503501-245559.JPG</td>\n",
       "      <td>31</td>\n",
       "      <td>0</td>\n",
       "    </tr>\n",
       "    <tr>\n",
       "      <th>3</th>\n",
       "      <td>2446759075-197643.JPG</td>\n",
       "      <td>53</td>\n",
       "      <td>0</td>\n",
       "    </tr>\n",
       "    <tr>\n",
       "      <th>4</th>\n",
       "      <td>2238472345-167057.JPG</td>\n",
       "      <td>85</td>\n",
       "      <td>0</td>\n",
       "    </tr>\n",
       "    <tr>\n",
       "      <th>...</th>\n",
       "      <td>...</td>\n",
       "      <td>...</td>\n",
       "      <td>...</td>\n",
       "    </tr>\n",
       "    <tr>\n",
       "      <th>36838</th>\n",
       "      <td>2446757906-271276.JPG</td>\n",
       "      <td>11</td>\n",
       "      <td>0</td>\n",
       "    </tr>\n",
       "    <tr>\n",
       "      <th>36839</th>\n",
       "      <td>2383042711-265797.JPG</td>\n",
       "      <td>76</td>\n",
       "      <td>0</td>\n",
       "    </tr>\n",
       "    <tr>\n",
       "      <th>36840</th>\n",
       "      <td>2868483523-65487.JPG</td>\n",
       "      <td>49</td>\n",
       "      <td>0</td>\n",
       "    </tr>\n",
       "    <tr>\n",
       "      <th>36841</th>\n",
       "      <td>2864909440-212519.JPG</td>\n",
       "      <td>74</td>\n",
       "      <td>0</td>\n",
       "    </tr>\n",
       "    <tr>\n",
       "      <th>36842</th>\n",
       "      <td>2458346981-273596.JPG</td>\n",
       "      <td>63</td>\n",
       "      <td>0</td>\n",
       "    </tr>\n",
       "  </tbody>\n",
       "</table>\n",
       "<p>36843 rows × 3 columns</p>\n",
       "</div>"
      ],
      "text/plain": [
       "                  image_path  species_encoded  poisonous\n",
       "0       2238546328-30620.JPG               82          0\n",
       "1       2558871973-53941.JPG               43          0\n",
       "2      2238503501-245559.JPG               31          0\n",
       "3      2446759075-197643.JPG               53          0\n",
       "4      2238472345-167057.JPG               85          0\n",
       "...                      ...              ...        ...\n",
       "36838  2446757906-271276.JPG               11          0\n",
       "36839  2383042711-265797.JPG               76          0\n",
       "36840   2868483523-65487.JPG               49          0\n",
       "36841  2864909440-212519.JPG               74          0\n",
       "36842  2458346981-273596.JPG               63          0\n",
       "\n",
       "[36843 rows x 3 columns]"
      ]
     },
     "execution_count": 4,
     "metadata": {},
     "output_type": "execute_result"
    }
   ],
   "source": [
    "labels_train_df"
   ]
  },
  {
   "cell_type": "code",
   "execution_count": 5,
   "metadata": {
    "ExecuteTime": {
     "end_time": "2024-12-01T13:20:06.774524Z",
     "start_time": "2024-12-01T13:20:06.767681Z"
    }
   },
   "outputs": [
    {
     "data": {
      "text/html": [
       "<div>\n",
       "<style scoped>\n",
       "    .dataframe tbody tr th:only-of-type {\n",
       "        vertical-align: middle;\n",
       "    }\n",
       "\n",
       "    .dataframe tbody tr th {\n",
       "        vertical-align: top;\n",
       "    }\n",
       "\n",
       "    .dataframe thead th {\n",
       "        text-align: right;\n",
       "    }\n",
       "</style>\n",
       "<table border=\"1\" class=\"dataframe\">\n",
       "  <thead>\n",
       "    <tr style=\"text-align: right;\">\n",
       "      <th></th>\n",
       "      <th>image_path</th>\n",
       "      <th>species_encoded</th>\n",
       "      <th>poisonous</th>\n",
       "    </tr>\n",
       "  </thead>\n",
       "  <tbody>\n",
       "    <tr>\n",
       "      <th>0</th>\n",
       "      <td>0-3008834345.JPG</td>\n",
       "      <td>32</td>\n",
       "      <td>0</td>\n",
       "    </tr>\n",
       "    <tr>\n",
       "      <th>1</th>\n",
       "      <td>1-3008834345.JPG</td>\n",
       "      <td>32</td>\n",
       "      <td>0</td>\n",
       "    </tr>\n",
       "    <tr>\n",
       "      <th>2</th>\n",
       "      <td>0-3008834364.JPG</td>\n",
       "      <td>54</td>\n",
       "      <td>0</td>\n",
       "    </tr>\n",
       "    <tr>\n",
       "      <th>3</th>\n",
       "      <td>1-3008834364.JPG</td>\n",
       "      <td>54</td>\n",
       "      <td>0</td>\n",
       "    </tr>\n",
       "    <tr>\n",
       "      <th>4</th>\n",
       "      <td>2-3008834364.JPG</td>\n",
       "      <td>54</td>\n",
       "      <td>0</td>\n",
       "    </tr>\n",
       "    <tr>\n",
       "      <th>...</th>\n",
       "      <td>...</td>\n",
       "      <td>...</td>\n",
       "      <td>...</td>\n",
       "    </tr>\n",
       "    <tr>\n",
       "      <th>6403</th>\n",
       "      <td>4-3024144356.JPG</td>\n",
       "      <td>63</td>\n",
       "      <td>0</td>\n",
       "    </tr>\n",
       "    <tr>\n",
       "      <th>6404</th>\n",
       "      <td>0-3024144386.JPG</td>\n",
       "      <td>24</td>\n",
       "      <td>0</td>\n",
       "    </tr>\n",
       "    <tr>\n",
       "      <th>6405</th>\n",
       "      <td>1-3024144386.JPG</td>\n",
       "      <td>24</td>\n",
       "      <td>0</td>\n",
       "    </tr>\n",
       "    <tr>\n",
       "      <th>6406</th>\n",
       "      <td>2-3024144386.JPG</td>\n",
       "      <td>24</td>\n",
       "      <td>0</td>\n",
       "    </tr>\n",
       "    <tr>\n",
       "      <th>6407</th>\n",
       "      <td>0-3032619341.JPG</td>\n",
       "      <td>60</td>\n",
       "      <td>0</td>\n",
       "    </tr>\n",
       "  </tbody>\n",
       "</table>\n",
       "<p>6408 rows × 3 columns</p>\n",
       "</div>"
      ],
      "text/plain": [
       "            image_path  species_encoded  poisonous\n",
       "0     0-3008834345.JPG               32          0\n",
       "1     1-3008834345.JPG               32          0\n",
       "2     0-3008834364.JPG               54          0\n",
       "3     1-3008834364.JPG               54          0\n",
       "4     2-3008834364.JPG               54          0\n",
       "...                ...              ...        ...\n",
       "6403  4-3024144356.JPG               63          0\n",
       "6404  0-3024144386.JPG               24          0\n",
       "6405  1-3024144386.JPG               24          0\n",
       "6406  2-3024144386.JPG               24          0\n",
       "6407  0-3032619341.JPG               60          0\n",
       "\n",
       "[6408 rows x 3 columns]"
      ]
     },
     "execution_count": 5,
     "metadata": {},
     "output_type": "execute_result"
    }
   ],
   "source": [
    "labels_valid_df"
   ]
  },
  {
   "cell_type": "markdown",
   "metadata": {
    "id": "VtG5GFMZsrW_"
   },
   "source": [
    "labels_df.loc[labels_df['species_encoded'].between(1, 20), 'poisonous'] = 1\n",
    "\n",
    "labels_df['poisonous'].value_counts()"
   ]
  },
  {
   "cell_type": "markdown",
   "metadata": {
    "id": "Yv0m7--CsqMh"
   },
   "source": []
  },
  {
   "cell_type": "code",
   "execution_count": 6,
   "metadata": {
    "ExecuteTime": {
     "end_time": "2024-12-01T13:20:13.238104Z",
     "start_time": "2024-12-01T13:20:12.468999Z"
    },
    "id": "I_plERYPo_OY"
   },
   "outputs": [],
   "source": [
    "from keras.api.models import Model, Sequential\n",
    "from keras import layers\n",
    "import keras\n",
    "import tensorflow as tf\n",
    "import matplotlib.pyplot as plt"
   ]
  },
  {
   "cell_type": "code",
   "execution_count": 7,
   "metadata": {
    "ExecuteTime": {
     "end_time": "2024-12-01T13:20:14.695587Z",
     "start_time": "2024-12-01T13:20:14.683094Z"
    },
    "id": "PFbzTFrWzOcs"
   },
   "outputs": [],
   "source": [
    "# Címkék és file path-ek betöltése\n",
    "file_paths_train = [f\"{data_dir_train}/{fname}\" for fname in labels_train_df[\"image_path\"]]\n",
    "species_labels_train = labels_train_df[\"species_encoded\"].values  # Többosztályos címkék\n",
    "toxicity_labels_train = labels_train_df[\"poisonous\"].values  # Bináris címkék\n",
    "\n",
    "file_paths_valid = [f\"{data_dir_valid}/{fname}\" for fname in labels_valid_df[\"image_path\"]]\n",
    "species_labels_valid = labels_valid_df[\"species_encoded\"].values  # Többosztályos címkék\n",
    "toxicity_labels_valid = labels_valid_df[\"poisonous\"].values  # Bináris címkék\n"
   ]
  },
  {
   "cell_type": "code",
   "execution_count": 8,
   "metadata": {
    "ExecuteTime": {
     "end_time": "2024-12-01T13:20:16.013640Z",
     "start_time": "2024-12-01T13:20:15.853849Z"
    },
    "colab": {
     "base_uri": "https://localhost:8080/"
    },
    "executionInfo": {
     "elapsed": 1520,
     "status": "ok",
     "timestamp": 1732804622181,
     "user": {
      "displayName": "Bence Fazekas",
      "userId": "07904134949574519221"
     },
     "user_tz": -60
    },
    "id": "C9huR1sDy9oW",
    "outputId": "02466a29-f5c6-4d9a-d831-33d9512cb9a1"
   },
   "outputs": [
    {
     "name": "stdout",
     "output_type": "stream",
     "text": [
      "4606\n",
      "801\n"
     ]
    }
   ],
   "source": [
    "# Egyéni adatbetöltő függvény\n",
    "def preprocess_image(filename, species_label, toxicity_label):\n",
    "    # Kép betöltése és átméretezése\n",
    "    image = tf.io.read_file(filename)\n",
    "    image = tf.image.decode_jpeg(image, channels=3)\n",
    "    image = tf.image.resize(image, (130, 130))\n",
    "    return image, {\"species\": species_label, \"toxicity\": toxicity_label}\n",
    "\n",
    "# TensorFlow dataset létrehozása\n",
    "file_paths_ds = tf.data.Dataset.from_tensor_slices((file_paths_train, species_labels_train, toxicity_labels_train))\n",
    "dataset = file_paths_ds.map(preprocess_image)\n",
    "\n",
    "# Adat split (train és validation)\n",
    "train_size = int(len(file_paths_train))\n",
    "train_dataset = dataset.take(train_size).batch(8)\n",
    "\n",
    "print(len(train_dataset))\n",
    "\n",
    "file_paths_ds = tf.data.Dataset.from_tensor_slices((file_paths_valid, species_labels_valid, toxicity_labels_valid))\n",
    "dataset = file_paths_ds.map(preprocess_image)\n",
    "\n",
    "# Adat split (train és validation)\n",
    "valid_size = int(len(file_paths_valid))\n",
    "valid_dataset = dataset.take(valid_size).batch(8)\n",
    "\n",
    "print(len(valid_dataset))"
   ]
  },
  {
   "cell_type": "code",
   "execution_count": 9,
   "metadata": {
    "ExecuteTime": {
     "end_time": "2024-12-01T14:07:05.061521Z",
     "start_time": "2024-12-01T14:07:05.056884Z"
    },
    "id": "RoaPiyc5o_OZ"
   },
   "outputs": [],
   "source": [
    "from keras.callbacks import EarlyStopping\n",
    "\n",
    "early_stopping = EarlyStopping(\n",
    "    min_delta=0.01,\n",
    "    patience=5,\n",
    "    verbose=1,\n",
    "    mode='auto',\n",
    "    restore_best_weights=True\n",
    ")\n",
    "\n"
   ]
  },
  {
   "cell_type": "code",
   "execution_count": 10,
   "metadata": {
    "ExecuteTime": {
     "end_time": "2024-12-01T13:20:18.829671Z",
     "start_time": "2024-12-01T13:20:18.294654Z"
    },
    "id": "EZnb5YO1xjeq"
   },
   "outputs": [
    {
     "name": "stdout",
     "output_type": "stream",
     "text": [
      "Downloading data from https://storage.googleapis.com/tensorflow/keras-applications/vgg16/vgg16_weights_tf_dim_ordering_tf_kernels_notop.h5\n",
      "\u001b[1m58889256/58889256\u001b[0m \u001b[32m━━━━━━━━━━━━━━━━━━━━\u001b[0m\u001b[37m\u001b[0m \u001b[1m12s\u001b[0m 0us/step\n"
     ]
    }
   ],
   "source": [
    "base_model = VGG16(weights='imagenet', include_top=False, input_shape=(130, 130, 3))\n",
    "\n",
    "for layer in base_model.layers:\n",
    "     layer.trainable = False"
   ]
  },
  {
   "cell_type": "markdown",
   "metadata": {},
   "source": [
    "import tensorflow as tf\n",
    "from tensorflow.keras import backend as K\n",
    "\n",
    "def f1_macro(y_true, y_pred):\n",
    "    # Convert predictions to class indices if needed\n",
    "    y_pred = tf.argmax(y_pred, axis=-1)\n",
    "    y_true = tf.cast(y_true, tf.int64)\n",
    "\n",
    "    # Get the number of classes dynamically\n",
    "    num_classes = tf.reduce_max(y_true) + 1\n",
    "\n",
    "    # Initialize a tensor to store F1 scores for each class\n",
    "    f1_scores = tf.TensorArray(dtype=tf.float32, size=0, dynamic_size=True)\n",
    "\n",
    "    # Use tf.range instead of Python's range\n",
    "    for i in tf.range(num_classes):\n",
    "        # Calculate precision and recall for class i\n",
    "        true_positive = tf.reduce_sum(tf.cast(tf.logical_and(tf.equal(y_pred, i), tf.equal(y_true, i)), tf.float32))\n",
    "        predicted_positive = tf.reduce_sum(tf.cast(tf.equal(y_pred, i), tf.float32))\n",
    "        actual_positive = tf.reduce_sum(tf.cast(tf.equal(y_true, i), tf.float32))\n",
    "\n",
    "        precision = true_positive / (predicted_positive + K.epsilon())\n",
    "        recall = true_positive / (actual_positive + K.epsilon())\n",
    "\n",
    "        # Calculate F1 score for the class\n",
    "        f1 = 2 * (precision * recall) / (precision + recall + K.epsilon())\n",
    "        f1_scores = f1_scores.write(i, f1)\n",
    "\n",
    "    # Stack F1 scores and compute their mean (macro F1)\n",
    "    macro_f1 = tf.reduce_mean(f1_scores.stack())\n",
    "    return macro_f1\n"
   ]
  },
  {
   "cell_type": "code",
   "execution_count": 13,
   "metadata": {
    "ExecuteTime": {
     "end_time": "2024-12-01T13:20:21.745997Z",
     "start_time": "2024-12-01T13:20:21.733966Z"
    },
    "id": "0jkKti4eo_Oa"
   },
   "outputs": [],
   "source": [
    "from keras.metrics import Precision, Recall\n",
    "from keras import backend as K\n",
    "\n",
    "# Initialize Precision and Recall for F1 calculation\n",
    "precision = Precision()\n",
    "recall = Recall()\n",
    "\n",
    "def f1_score(y_true, y_pred):\n",
    "    p = precision(y_true, y_pred)\n",
    "    r = recall(y_true, y_pred)\n",
    "    return 2 * (p * r) / (p + r + K.epsilon())\n"
   ]
  },
  {
   "cell_type": "code",
   "execution_count": 14,
   "metadata": {
    "ExecuteTime": {
     "end_time": "2024-12-01T13:20:23.862369Z",
     "start_time": "2024-12-01T13:20:23.857050Z"
    },
    "id": "Tpnj1M2Co_Ob"
   },
   "outputs": [],
   "source": [
    "\n",
    "\n",
    "# Define the confusion costs\n",
    "c_PSC = tf.constant(100.0, dtype=tf.float32)  # Cost for poisonous species confusion\n",
    "c_ESC = tf.constant(1.0, dtype=tf.float32)    # Cost for edible species confusion\n",
    "\n",
    "# Classification loss for species\n",
    "def species_loss(y_true, y_pred):\n",
    "    return tf.keras.losses.sparse_categorical_crossentropy(y_true, y_pred)\n",
    "\n",
    "# Custom loss for toxicity with confusion cost\n",
    "def toxicity_confusion_loss(y_true, y_pred):\n",
    "    # `y_true` and `y_pred` are binary (0 = edible, 1 = poisonous)\n",
    "    confusion_cost = tf.where(\n",
    "        tf.logical_and(tf.equal(y_true, 1), tf.equal(tf.round(y_pred), 0)),  # poisonous misclassified as edible\n",
    "        c_PSC,\n",
    "        tf.where(\n",
    "            tf.logical_and(tf.equal(y_true, 0), tf.equal(tf.round(y_pred), 1)),  # edible misclassified as poisonous\n",
    "            c_ESC,\n",
    "            tf.constant(0.0, dtype=tf.float32)\n",
    "        )\n",
    "    )\n",
    "    # Binary cross-entropy for toxicity classification + confusion cost\n",
    "    base_loss = tf.keras.losses.binary_crossentropy(y_true, y_pred)\n",
    "    return base_loss + confusion_cost\n"
   ]
  },
  {
   "cell_type": "code",
   "execution_count": 15,
   "metadata": {
    "ExecuteTime": {
     "end_time": "2024-12-01T19:03:15.885270Z",
     "start_time": "2024-12-01T14:07:09.623300Z"
    },
    "colab": {
     "base_uri": "https://localhost:8080/"
    },
    "id": "GppSPJU6zBWw",
    "outputId": "50a567f5-9399-4627-9f3d-0c2e933e9b5c"
   },
   "outputs": [
    {
     "name": "stdout",
     "output_type": "stream",
     "text": [
      "Epoch 1/100\n",
      "\u001b[1m4606/4606\u001b[0m \u001b[32m━━━━━━━━━━━━━━━━━━━━\u001b[0m\u001b[37m\u001b[0m \u001b[1m1220s\u001b[0m 264ms/step - loss: 7.1242 - species_accuracy: 0.1582 - species_loss: 3.7585 - toxicity_f1_score: 0.0320 - toxicity_loss: 3.3658 - val_loss: 5.7294 - val_species_accuracy: 0.3233 - val_species_loss: 2.6618 - val_toxicity_f1_score: 0.0169 - val_toxicity_loss: 3.0676\n",
      "Epoch 2/100\n",
      "\u001b[1m4606/4606\u001b[0m \u001b[32m━━━━━━━━━━━━━━━━━━━━\u001b[0m\u001b[37m\u001b[0m \u001b[1m1191s\u001b[0m 259ms/step - loss: 6.0554 - species_accuracy: 0.3003 - species_loss: 2.7445 - toxicity_f1_score: 0.0168 - toxicity_loss: 3.3109 - val_loss: 5.3301 - val_species_accuracy: 0.3823 - val_species_loss: 2.4339 - val_toxicity_f1_score: 0.0260 - val_toxicity_loss: 2.8962\n",
      "Epoch 3/100\n",
      "\u001b[1m4606/4606\u001b[0m \u001b[32m━━━━━━━━━━━━━━━━━━━━\u001b[0m\u001b[37m\u001b[0m \u001b[1m1192s\u001b[0m 259ms/step - loss: 5.8178 - species_accuracy: 0.3431 - species_loss: 2.5245 - toxicity_f1_score: 0.0307 - toxicity_loss: 3.2933 - val_loss: 5.3495 - val_species_accuracy: 0.3889 - val_species_loss: 2.3721 - val_toxicity_f1_score: 0.0330 - val_toxicity_loss: 2.9774\n",
      "Epoch 4/100\n",
      "\u001b[1m4606/4606\u001b[0m \u001b[32m━━━━━━━━━━━━━━━━━━━━\u001b[0m\u001b[37m\u001b[0m \u001b[1m1204s\u001b[0m 261ms/step - loss: 5.6304 - species_accuracy: 0.3721 - species_loss: 2.3777 - toxicity_f1_score: 0.0355 - toxicity_loss: 3.2527 - val_loss: 5.1480 - val_species_accuracy: 0.3872 - val_species_loss: 2.3556 - val_toxicity_f1_score: 0.0439 - val_toxicity_loss: 2.7924\n",
      "Epoch 5/100\n",
      "\u001b[1m4606/4606\u001b[0m \u001b[32m━━━━━━━━━━━━━━━━━━━━\u001b[0m\u001b[37m\u001b[0m \u001b[1m1199s\u001b[0m 260ms/step - loss: 5.5041 - species_accuracy: 0.3981 - species_loss: 2.2812 - toxicity_f1_score: 0.0479 - toxicity_loss: 3.2229 - val_loss: 5.1909 - val_species_accuracy: 0.4109 - val_species_loss: 2.3007 - val_toxicity_f1_score: 0.0542 - val_toxicity_loss: 2.8902\n",
      "Epoch 6/100\n",
      "\u001b[1m4606/4606\u001b[0m \u001b[32m━━━━━━━━━━━━━━━━━━━━\u001b[0m\u001b[37m\u001b[0m \u001b[1m1236s\u001b[0m 268ms/step - loss: 5.3404 - species_accuracy: 0.4150 - species_loss: 2.1897 - toxicity_f1_score: 0.0576 - toxicity_loss: 3.1507 - val_loss: 5.0306 - val_species_accuracy: 0.4137 - val_species_loss: 2.2861 - val_toxicity_f1_score: 0.0694 - val_toxicity_loss: 2.7446\n",
      "Epoch 7/100\n",
      "\u001b[1m4606/4606\u001b[0m \u001b[32m━━━━━━━━━━━━━━━━━━━━\u001b[0m\u001b[37m\u001b[0m \u001b[1m1212s\u001b[0m 263ms/step - loss: 5.1640 - species_accuracy: 0.4303 - species_loss: 2.1193 - toxicity_f1_score: 0.0745 - toxicity_loss: 3.0448 - val_loss: 5.0140 - val_species_accuracy: 0.4176 - val_species_loss: 2.2736 - val_toxicity_f1_score: 0.0860 - val_toxicity_loss: 2.7405\n",
      "Epoch 8/100\n",
      "\u001b[1m4606/4606\u001b[0m \u001b[32m━━━━━━━━━━━━━━━━━━━━\u001b[0m\u001b[37m\u001b[0m \u001b[1m1204s\u001b[0m 261ms/step - loss: 5.1342 - species_accuracy: 0.4394 - species_loss: 2.0705 - toxicity_f1_score: 0.0892 - toxicity_loss: 3.0637 - val_loss: 5.0347 - val_species_accuracy: 0.4249 - val_species_loss: 2.2923 - val_toxicity_f1_score: 0.0984 - val_toxicity_loss: 2.7424\n",
      "Epoch 9/100\n",
      "\u001b[1m4606/4606\u001b[0m \u001b[32m━━━━━━━━━━━━━━━━━━━━\u001b[0m\u001b[37m\u001b[0m \u001b[1m1194s\u001b[0m 259ms/step - loss: 5.0192 - species_accuracy: 0.4511 - species_loss: 2.0323 - toxicity_f1_score: 0.1019 - toxicity_loss: 2.9869 - val_loss: 5.0434 - val_species_accuracy: 0.4189 - val_species_loss: 2.3184 - val_toxicity_f1_score: 0.1116 - val_toxicity_loss: 2.7250\n",
      "Epoch 10/100\n",
      "\u001b[1m4606/4606\u001b[0m \u001b[32m━━━━━━━━━━━━━━━━━━━━\u001b[0m\u001b[37m\u001b[0m \u001b[1m1179s\u001b[0m 256ms/step - loss: 4.9211 - species_accuracy: 0.4634 - species_loss: 1.9632 - toxicity_f1_score: 0.1148 - toxicity_loss: 2.9579 - val_loss: 5.0681 - val_species_accuracy: 0.4210 - val_species_loss: 2.3348 - val_toxicity_f1_score: 0.1236 - val_toxicity_loss: 2.7332\n",
      "Epoch 11/100\n",
      "\u001b[1m4606/4606\u001b[0m \u001b[32m━━━━━━━━━━━━━━━━━━━━\u001b[0m\u001b[37m\u001b[0m \u001b[1m1114s\u001b[0m 242ms/step - loss: 4.8225 - species_accuracy: 0.4662 - species_loss: 1.9365 - toxicity_f1_score: 0.1268 - toxicity_loss: 2.8860 - val_loss: 4.9637 - val_species_accuracy: 0.4164 - val_species_loss: 2.3140 - val_toxicity_f1_score: 0.1364 - val_toxicity_loss: 2.6496\n",
      "Epoch 12/100\n",
      "\u001b[1m4606/4606\u001b[0m \u001b[32m━━━━━━━━━━━━━━━━━━━━\u001b[0m\u001b[37m\u001b[0m \u001b[1m1132s\u001b[0m 246ms/step - loss: 4.7198 - species_accuracy: 0.4816 - species_loss: 1.8860 - toxicity_f1_score: 0.1395 - toxicity_loss: 2.8338 - val_loss: 5.0270 - val_species_accuracy: 0.4215 - val_species_loss: 2.3495 - val_toxicity_f1_score: 0.1494 - val_toxicity_loss: 2.6775\n",
      "Epoch 13/100\n",
      "\u001b[1m4606/4606\u001b[0m \u001b[32m━━━━━━━━━━━━━━━━━━━━\u001b[0m\u001b[37m\u001b[0m \u001b[1m1131s\u001b[0m 246ms/step - loss: 4.6798 - species_accuracy: 0.4825 - species_loss: 1.8800 - toxicity_f1_score: 0.1521 - toxicity_loss: 2.7998 - val_loss: 5.1338 - val_species_accuracy: 0.4134 - val_species_loss: 2.3427 - val_toxicity_f1_score: 0.1592 - val_toxicity_loss: 2.7911\n",
      "Epoch 14/100\n",
      "\u001b[1m4606/4606\u001b[0m \u001b[32m━━━━━━━━━━━━━━━━━━━━\u001b[0m\u001b[37m\u001b[0m \u001b[1m1130s\u001b[0m 245ms/step - loss: 4.5086 - species_accuracy: 0.4994 - species_loss: 1.8136 - toxicity_f1_score: 0.1622 - toxicity_loss: 2.6950 - val_loss: 5.0557 - val_species_accuracy: 0.4178 - val_species_loss: 2.3250 - val_toxicity_f1_score: 0.1714 - val_toxicity_loss: 2.7307\n",
      "Epoch 15/100\n",
      "\u001b[1m4606/4606\u001b[0m \u001b[32m━━━━━━━━━━━━━━━━━━━━\u001b[0m\u001b[37m\u001b[0m \u001b[1m1183s\u001b[0m 257ms/step - loss: 4.6293 - species_accuracy: 0.4979 - species_loss: 1.8120 - toxicity_f1_score: 0.1730 - toxicity_loss: 2.8173 - val_loss: 4.8648 - val_species_accuracy: 0.4270 - val_species_loss: 2.3009 - val_toxicity_f1_score: 0.1807 - val_toxicity_loss: 2.5638\n",
      "Epoch 16/100\n",
      "\u001b[1m4606/4606\u001b[0m \u001b[32m━━━━━━━━━━━━━━━━━━━━\u001b[0m\u001b[37m\u001b[0m \u001b[1m1138s\u001b[0m 247ms/step - loss: 4.4093 - species_accuracy: 0.5073 - species_loss: 1.7699 - toxicity_f1_score: 0.1837 - toxicity_loss: 2.6394 - val_loss: 5.0845 - val_species_accuracy: 0.4226 - val_species_loss: 2.4034 - val_toxicity_f1_score: 0.1908 - val_toxicity_loss: 2.6812\n",
      "Epoch 17/100\n",
      "\u001b[1m4606/4606\u001b[0m \u001b[32m━━━━━━━━━━━━━━━━━━━━\u001b[0m\u001b[37m\u001b[0m \u001b[1m1126s\u001b[0m 244ms/step - loss: 4.3839 - species_accuracy: 0.5196 - species_loss: 1.7388 - toxicity_f1_score: 0.1929 - toxicity_loss: 2.6451 - val_loss: 5.2704 - val_species_accuracy: 0.4182 - val_species_loss: 2.4225 - val_toxicity_f1_score: 0.1991 - val_toxicity_loss: 2.8478\n",
      "Epoch 18/100\n",
      "\u001b[1m4606/4606\u001b[0m \u001b[32m━━━━━━━━━━━━━━━━━━━━\u001b[0m\u001b[37m\u001b[0m \u001b[1m1148s\u001b[0m 249ms/step - loss: 4.3010 - species_accuracy: 0.5208 - species_loss: 1.7352 - toxicity_f1_score: 0.2014 - toxicity_loss: 2.5658 - val_loss: 5.1181 - val_species_accuracy: 0.4223 - val_species_loss: 2.3557 - val_toxicity_f1_score: 0.2072 - val_toxicity_loss: 2.7625\n",
      "Epoch 19/100\n",
      "\u001b[1m4606/4606\u001b[0m \u001b[32m━━━━━━━━━━━━━━━━━━━━\u001b[0m\u001b[37m\u001b[0m \u001b[1m1171s\u001b[0m 254ms/step - loss: 4.1606 - species_accuracy: 0.5170 - species_loss: 1.7332 - toxicity_f1_score: 0.2099 - toxicity_loss: 2.4274 - val_loss: 5.0378 - val_species_accuracy: 0.4274 - val_species_loss: 2.3530 - val_toxicity_f1_score: 0.2174 - val_toxicity_loss: 2.6848\n",
      "Epoch 20/100\n",
      "\u001b[1m4606/4606\u001b[0m \u001b[32m━━━━━━━━━━━━━━━━━━━━\u001b[0m\u001b[37m\u001b[0m \u001b[1m1110s\u001b[0m 241ms/step - loss: 4.1962 - species_accuracy: 0.5263 - species_loss: 1.7090 - toxicity_f1_score: 0.2195 - toxicity_loss: 2.4872 - val_loss: 5.0251 - val_species_accuracy: 0.4159 - val_species_loss: 2.4125 - val_toxicity_f1_score: 0.2265 - val_toxicity_loss: 2.6127\n",
      "Epoch 20: early stopping\n",
      "Restoring model weights from the end of the best epoch: 15.\n"
     ]
    }
   ],
   "source": [
    "# 2. Modell felépítése\n",
    "def build_multitask_model(input_shape):\n",
    "\n",
    "    data_augmentation = Sequential([\n",
    "    RandomRotation(0.2),       # Forgatás ±20%-kal\n",
    "    RandomFlip(\"horizontal\"),  # Vízszintes tükrözés\n",
    "    ])\n",
    "\n",
    "    x = data_augmentation(base_model.input)\n",
    "    x = base_model(inputs=x)\n",
    "    x = GlobalAveragePooling2D()(x)\n",
    "    x = Flatten()(x)\n",
    "    x = Dense(1024, activation='relu')(x)\n",
    "    x = Dropout(0.25)(x)\n",
    "\n",
    "    # Faj osztályozó fej\n",
    "    species_head = Dense(1024, activation='relu')(x)\n",
    "    species_head = Dropout(0.25)(species_head)\n",
    "    species_head = Dense(1024, activation='relu')(species_head)\n",
    "    species_output = layers.Dense(100, activation=\"softmax\", name=\"species\")(species_head)\n",
    "\n",
    "    # Mérgezőség osztályozó fej\n",
    "    toxicity_head = Dense(1024, activation='relu')(x)\n",
    "    toxicity_head = Dropout(0.25)(toxicity_head)\n",
    "    toxicity_head = layers.Dense(1024, activation=\"relu\")(toxicity_head)\n",
    "    toxicity_output = layers.Dense(1, activation=\"sigmoid\", name=\"toxicity\")(toxicity_head)\n",
    "\n",
    "    model = Model(inputs=base_model.input, outputs=[species_output, toxicity_output])\n",
    "    return model\n",
    "\n",
    "input_shape = (130, 130, 3)\n",
    "model = build_multitask_model(input_shape)\n",
    "\n",
    "# 3. Modell összeállítása\n",
    "model.compile(\n",
    "    optimizer=keras.optimizers.Adam(learning_rate=0.000175),\n",
    "    loss={\n",
    "        \"species\": \"sparse_categorical_crossentropy\",\n",
    "        \"toxicity\": toxicity_confusion_loss\n",
    "    },\n",
    "    metrics={\n",
    "        \"species\": \"accuracy\",\n",
    "        \"toxicity\": f1_score\n",
    "    }\n",
    ")\n",
    "# 4. Modell tanítása\n",
    "history = model.fit(\n",
    "    train_dataset,\n",
    "    validation_data=valid_dataset,\n",
    "    callbacks = [early_stopping],\n",
    "    epochs=100\n",
    ")\n"
   ]
  },
  {
   "cell_type": "code",
   "execution_count": null,
   "metadata": {},
   "outputs": [],
   "source": []
  },
  {
   "cell_type": "code",
   "execution_count": 16,
   "metadata": {
    "ExecuteTime": {
     "end_time": "2024-12-01T19:19:29.737159Z",
     "start_time": "2024-12-01T19:19:29.580220Z"
    },
    "id": "8IvHi8WHo_Ob"
   },
   "outputs": [
    {
     "name": "stdout",
     "output_type": "stream",
     "text": [
      "Minimum validation loss: 4.864782333374023\n"
     ]
    },
    {
     "data": {
      "image/png": "[encoded data removed]",
      "text/plain": [
       "<Figure size 640x480 with 1 Axes>"
      ]
     },
     "metadata": {},
     "output_type": "display_data"
    }
   ],
   "source": [
    "history_df = pd.DataFrame(history.history)\n",
    "history_df.loc[:, ['loss', 'val_loss']].plot();\n",
    "print(\"Minimum validation loss: {}\".format(history_df['val_loss'].min()))"
   ]
  },
  {
   "cell_type": "code",
   "execution_count": null,
   "metadata": {
    "ExecuteTime": {
     "end_time": "2024-12-01T13:18:42.638666Z",
     "start_time": "2024-12-01T13:18:42.638666Z"
    },
    "id": "YzWbPrH2o_Oc"
   },
   "outputs": [],
   "source": []
  },
  {
   "cell_type": "code",
   "execution_count": null,
   "metadata": {
    "ExecuteTime": {
     "end_time": "2024-12-01T13:18:42.640054Z",
     "start_time": "2024-12-01T13:18:42.640054Z"
    },
    "id": "Edxn_534o_Oc"
   },
   "outputs": [],
   "source": []
  }
 ],
 "metadata": {
  "accelerator": "GPU",
  "colab": {
   "gpuType": "T4",
   "provenance": []
  },
  "kernelspec": {
   "display_name": "base",
   "language": "python",
   "name": "python3"
  },
  "language_info": {
   "codemirror_mode": {
    "name": "ipython",
    "version": 3
   },
   "file_extension": ".py",
   "mimetype": "text/x-python",
   "name": "python",
   "nbconvert_exporter": "python",
   "pygments_lexer": "ipython3",
   "version": "3.12.3"
  }
 },
 "nbformat": 4,
 "nbformat_minor": 0
}
