{
 "cells": [
  {
   "cell_type": "code",
   "source": [
    "import os\n",
    "import zipfile\n",
    "\n",
    "def unzip_files_in_root():\n",
    "    # Meghatározzuk a gyökérkönyvtárat (ahol a script/notebook fut)\n",
    "    root_directory = os.getcwd()\n",
    "\n",
    "    # Végigmegyünk az összes fájlon a gyökérkönyvtárban\n",
    "    for file_name in os.listdir(root_directory):\n",
    "        file_path = os.path.join(root_directory, file_name)\n",
    "\n",
    "        # Csak .zip fájlokat csomagolunk ki\n",
    "        if os.path.isfile(file_path) and file_name.endswith('.zip'):\n",
    "            # Létrehozzuk a kicsomagolási célmappát a zip fájl neve alapján (kiterjesztés nélkül)\n",
    "            extract_folder_name = os.path.splitext(file_name)[0]\n",
    "            extract_path = os.path.join(root_directory, extract_folder_name)\n",
    "\n",
    "            # Kicsomagoljuk a zip fájlt a megadott mappába\n",
    "            with zipfile.ZipFile(file_path, 'r') as zip_ref:\n",
    "                zip_ref.extractall(extract_path)\n",
    "            print(f\"'{file_name}' sikeresen kicsomagolva '{extract_folder_name}' mappába.\")\n",
    "\n",
    "    print(\"Az összes zip fájl kicsomagolása befejeződött.\")\n",
    "\n",
    "# Használat\n",
    "#unzip_files_in_root()\n"
   ],
   "metadata": {
    "colab": {
     "base_uri": "https://localhost:8080/"
    },
    "id": "2ummmbb49Coa",
    "executionInfo": {
     "status": "ok",
     "timestamp": 1732804605296,
     "user_tz": -60,
     "elapsed": 337,
     "user": {
      "displayName": "Bence Fazekas",
      "userId": "07904134949574519221"
     }
    },
    "outputId": "c18ef658-7269-416d-9b7d-ba0087f26de8",
    "ExecuteTime": {
     "end_time": "2024-12-01T13:15:38.233282Z",
     "start_time": "2024-12-01T13:15:38.228288Z"
    }
   },
   "outputs": [],
   "execution_count": 65
  },
  {
   "cell_type": "code",
   "source": [
    "import os\n",
    "\n",
    "def delete_zip_files_in_root():\n",
    "    # Meghatározzuk a gyökérkönyvtárat (ahol a script/notebook fut)\n",
    "    root_directory = os.getcwd()\n",
    "\n",
    "    # Végigmegyünk az összes fájlon a gyökérkönyvtárban\n",
    "    for file_name in os.listdir(root_directory):\n",
    "        file_path = os.path.join(root_directory, file_name)\n",
    "\n",
    "        # Csak .zip fájlokat törlünk\n",
    "        if os.path.isfile(file_path) and file_name.endswith('.zip'):\n",
    "            try:\n",
    "                os.remove(file_path)\n",
    "                print(f\"'{file_name}' sikeresen törölve.\")\n",
    "            except Exception as e:\n",
    "                print(f\"Hiba történt '{file_name}' törlésekor: {e}\")\n",
    "\n",
    "    print(\"Az összes zip fájl törlése befejeződött.\")\n",
    "\n",
    "# Használat\n",
    "#delete_zip_files_in_root()\n"
   ],
   "metadata": {
    "colab": {
     "base_uri": "https://localhost:8080/"
    },
    "id": "Z-_s76Ax-0_A",
    "executionInfo": {
     "status": "ok",
     "timestamp": 1732804605518,
     "user_tz": -60,
     "elapsed": 3,
     "user": {
      "displayName": "Bence Fazekas",
      "userId": "07904134949574519221"
     }
    },
    "outputId": "15f636ff-23f1-453c-f8fc-dfe9aaa2ebac",
    "ExecuteTime": {
     "end_time": "2024-12-01T13:15:38.262197Z",
     "start_time": "2024-12-01T13:15:38.257577Z"
    }
   },
   "outputs": [],
   "execution_count": 66
  },
  {
   "cell_type": "code",
   "metadata": {
    "colab": {
     "base_uri": "https://localhost:8080/",
     "height": 178
    },
    "executionInfo": {
     "elapsed": 15147,
     "status": "ok",
     "timestamp": 1732804620663,
     "user": {
      "displayName": "Bence Fazekas",
      "userId": "07904134949574519221"
     },
     "user_tz": -60
    },
    "id": "wkRBmvUvwg6I",
    "outputId": "79ebfccb-246d-4ccf-a82e-29c0e61a8f9f",
    "ExecuteTime": {
     "end_time": "2024-12-01T13:19:58.073007Z",
     "start_time": "2024-12-01T13:19:52.619712Z"
    }
   },
   "source": [
    "import tensorflow as tf\n",
    "import pandas as pd\n",
    "from keras import layers, Model, Input\n",
    "from keras.optimizers import Adam\n",
    "from keras.utils import to_categorical\n",
    "from keras.api.applications.vgg19 import VGG19\n",
    "from keras.api.applications.vgg19 import preprocess_input, decode_predictions\n",
    "from keras.api.layers import Dense, Flatten, Dropout, Activation,GlobalAveragePooling2D,Lambda, RandomRotation, RandomZoom, RandomFlip, RandomTranslation\n",
    "\n",
    "# 1. Adatok előkészítése\n",
    "# CSV betöltése\n",
    "data_dir_train = \"./train_data\"  # A képek könyvtára\n",
    "labels_train_df = pd.read_csv(\"./encoded_species_train.csv\", sep=';',encoding=\"utf-8\")  # Címkék CSV fájl\n",
    "data_dir_valid = \"./valid_data\"\n",
    "labels_valid_df = pd.read_csv(\"./encoded_species_valid.csv\", sep=',',encoding=\"utf-8\")  # Címkék CSV fájl\n",
    "\n",
    "labels_train_df['poisonous'].value_counts()\n",
    "labels_valid_df['poisonous'].value_counts()\n"
   ],
   "outputs": [
    {
     "data": {
      "text/plain": [
       "poisonous\n",
       "0    6218\n",
       "1     190\n",
       "Name: count, dtype: int64"
      ]
     },
     "execution_count": 1,
     "metadata": {},
     "output_type": "execute_result"
    }
   ],
   "execution_count": 1
  },
  {
   "metadata": {
    "ExecuteTime": {
     "end_time": "2024-12-01T13:20:04.211238Z",
     "start_time": "2024-12-01T13:20:04.204229Z"
    }
   },
   "cell_type": "code",
   "source": "labels_train_df['poisonous'].value_counts()",
   "outputs": [
    {
     "data": {
      "text/plain": [
       "poisonous\n",
       "0    35706\n",
       "1     1137\n",
       "Name: count, dtype: int64"
      ]
     },
     "execution_count": 2,
     "metadata": {},
     "output_type": "execute_result"
    }
   ],
   "execution_count": 2
  },
  {
   "metadata": {
    "ExecuteTime": {
     "end_time": "2024-12-01T13:20:06.086555Z",
     "start_time": "2024-12-01T13:20:06.078768Z"
    }
   },
   "cell_type": "code",
   "source": "labels_train_df",
   "outputs": [
    {
     "data": {
      "text/plain": [
       "                  image_path  species_encoded  poisonous\n",
       "0       2238546328-30620.JPG               82          0\n",
       "1       2558871973-53941.JPG               43          0\n",
       "2      2238503501-245559.JPG               31          0\n",
       "3      2446759075-197643.JPG               53          0\n",
       "4      2238472345-167057.JPG               85          0\n",
       "...                      ...              ...        ...\n",
       "36838  2446757906-271276.JPG               11          0\n",
       "36839  2383042711-265797.JPG               76          0\n",
       "36840   2868483523-65487.JPG               49          0\n",
       "36841  2864909440-212519.JPG               74          0\n",
       "36842  2458346981-273596.JPG               63          0\n",
       "\n",
       "[36843 rows x 3 columns]"
      ],
      "text/html": [
       "<div>\n",
       "<style scoped>\n",
       "    .dataframe tbody tr th:only-of-type {\n",
       "        vertical-align: middle;\n",
       "    }\n",
       "\n",
       "    .dataframe tbody tr th {\n",
       "        vertical-align: top;\n",
       "    }\n",
       "\n",
       "    .dataframe thead th {\n",
       "        text-align: right;\n",
       "    }\n",
       "</style>\n",
       "<table border=\"1\" class=\"dataframe\">\n",
       "  <thead>\n",
       "    <tr style=\"text-align: right;\">\n",
       "      <th></th>\n",
       "      <th>image_path</th>\n",
       "      <th>species_encoded</th>\n",
       "      <th>poisonous</th>\n",
       "    </tr>\n",
       "  </thead>\n",
       "  <tbody>\n",
       "    <tr>\n",
       "      <th>0</th>\n",
       "      <td>2238546328-30620.JPG</td>\n",
       "      <td>82</td>\n",
       "      <td>0</td>\n",
       "    </tr>\n",
       "    <tr>\n",
       "      <th>1</th>\n",
       "      <td>2558871973-53941.JPG</td>\n",
       "      <td>43</td>\n",
       "      <td>0</td>\n",
       "    </tr>\n",
       "    <tr>\n",
       "      <th>2</th>\n",
       "      <td>2238503501-245559.JPG</td>\n",
       "      <td>31</td>\n",
       "      <td>0</td>\n",
       "    </tr>\n",
       "    <tr>\n",
       "      <th>3</th>\n",
       "      <td>2446759075-197643.JPG</td>\n",
       "      <td>53</td>\n",
       "      <td>0</td>\n",
       "    </tr>\n",
       "    <tr>\n",
       "      <th>4</th>\n",
       "      <td>2238472345-167057.JPG</td>\n",
       "      <td>85</td>\n",
       "      <td>0</td>\n",
       "    </tr>\n",
       "    <tr>\n",
       "      <th>...</th>\n",
       "      <td>...</td>\n",
       "      <td>...</td>\n",
       "      <td>...</td>\n",
       "    </tr>\n",
       "    <tr>\n",
       "      <th>36838</th>\n",
       "      <td>2446757906-271276.JPG</td>\n",
       "      <td>11</td>\n",
       "      <td>0</td>\n",
       "    </tr>\n",
       "    <tr>\n",
       "      <th>36839</th>\n",
       "      <td>2383042711-265797.JPG</td>\n",
       "      <td>76</td>\n",
       "      <td>0</td>\n",
       "    </tr>\n",
       "    <tr>\n",
       "      <th>36840</th>\n",
       "      <td>2868483523-65487.JPG</td>\n",
       "      <td>49</td>\n",
       "      <td>0</td>\n",
       "    </tr>\n",
       "    <tr>\n",
       "      <th>36841</th>\n",
       "      <td>2864909440-212519.JPG</td>\n",
       "      <td>74</td>\n",
       "      <td>0</td>\n",
       "    </tr>\n",
       "    <tr>\n",
       "      <th>36842</th>\n",
       "      <td>2458346981-273596.JPG</td>\n",
       "      <td>63</td>\n",
       "      <td>0</td>\n",
       "    </tr>\n",
       "  </tbody>\n",
       "</table>\n",
       "<p>36843 rows × 3 columns</p>\n",
       "</div>"
      ]
     },
     "execution_count": 3,
     "metadata": {},
     "output_type": "execute_result"
    }
   ],
   "execution_count": 3
  },
  {
   "metadata": {
    "ExecuteTime": {
     "end_time": "2024-12-01T13:20:06.774524Z",
     "start_time": "2024-12-01T13:20:06.767681Z"
    }
   },
   "cell_type": "code",
   "source": "labels_valid_df",
   "outputs": [
    {
     "data": {
      "text/plain": [
       "            image_path  species_encoded  poisonous\n",
       "0     0-3008834345.JPG               32          0\n",
       "1     1-3008834345.JPG               32          0\n",
       "2     0-3008834364.JPG               54          0\n",
       "3     1-3008834364.JPG               54          0\n",
       "4     2-3008834364.JPG               54          0\n",
       "...                ...              ...        ...\n",
       "6403  4-3024144356.JPG               63          0\n",
       "6404  0-3024144386.JPG               24          0\n",
       "6405  1-3024144386.JPG               24          0\n",
       "6406  2-3024144386.JPG               24          0\n",
       "6407  0-3032619341.JPG               60          0\n",
       "\n",
       "[6408 rows x 3 columns]"
      ],
      "text/html": [
       "<div>\n",
       "<style scoped>\n",
       "    .dataframe tbody tr th:only-of-type {\n",
       "        vertical-align: middle;\n",
       "    }\n",
       "\n",
       "    .dataframe tbody tr th {\n",
       "        vertical-align: top;\n",
       "    }\n",
       "\n",
       "    .dataframe thead th {\n",
       "        text-align: right;\n",
       "    }\n",
       "</style>\n",
       "<table border=\"1\" class=\"dataframe\">\n",
       "  <thead>\n",
       "    <tr style=\"text-align: right;\">\n",
       "      <th></th>\n",
       "      <th>image_path</th>\n",
       "      <th>species_encoded</th>\n",
       "      <th>poisonous</th>\n",
       "    </tr>\n",
       "  </thead>\n",
       "  <tbody>\n",
       "    <tr>\n",
       "      <th>0</th>\n",
       "      <td>0-3008834345.JPG</td>\n",
       "      <td>32</td>\n",
       "      <td>0</td>\n",
       "    </tr>\n",
       "    <tr>\n",
       "      <th>1</th>\n",
       "      <td>1-3008834345.JPG</td>\n",
       "      <td>32</td>\n",
       "      <td>0</td>\n",
       "    </tr>\n",
       "    <tr>\n",
       "      <th>2</th>\n",
       "      <td>0-3008834364.JPG</td>\n",
       "      <td>54</td>\n",
       "      <td>0</td>\n",
       "    </tr>\n",
       "    <tr>\n",
       "      <th>3</th>\n",
       "      <td>1-3008834364.JPG</td>\n",
       "      <td>54</td>\n",
       "      <td>0</td>\n",
       "    </tr>\n",
       "    <tr>\n",
       "      <th>4</th>\n",
       "      <td>2-3008834364.JPG</td>\n",
       "      <td>54</td>\n",
       "      <td>0</td>\n",
       "    </tr>\n",
       "    <tr>\n",
       "      <th>...</th>\n",
       "      <td>...</td>\n",
       "      <td>...</td>\n",
       "      <td>...</td>\n",
       "    </tr>\n",
       "    <tr>\n",
       "      <th>6403</th>\n",
       "      <td>4-3024144356.JPG</td>\n",
       "      <td>63</td>\n",
       "      <td>0</td>\n",
       "    </tr>\n",
       "    <tr>\n",
       "      <th>6404</th>\n",
       "      <td>0-3024144386.JPG</td>\n",
       "      <td>24</td>\n",
       "      <td>0</td>\n",
       "    </tr>\n",
       "    <tr>\n",
       "      <th>6405</th>\n",
       "      <td>1-3024144386.JPG</td>\n",
       "      <td>24</td>\n",
       "      <td>0</td>\n",
       "    </tr>\n",
       "    <tr>\n",
       "      <th>6406</th>\n",
       "      <td>2-3024144386.JPG</td>\n",
       "      <td>24</td>\n",
       "      <td>0</td>\n",
       "    </tr>\n",
       "    <tr>\n",
       "      <th>6407</th>\n",
       "      <td>0-3032619341.JPG</td>\n",
       "      <td>60</td>\n",
       "      <td>0</td>\n",
       "    </tr>\n",
       "  </tbody>\n",
       "</table>\n",
       "<p>6408 rows × 3 columns</p>\n",
       "</div>"
      ]
     },
     "execution_count": 4,
     "metadata": {},
     "output_type": "execute_result"
    }
   ],
   "execution_count": 4
  },
  {
   "cell_type": "markdown",
   "source": [
    "labels_df.loc[labels_df['species_encoded'].between(1, 20), 'poisonous'] = 1\n",
    "\n",
    "labels_df['poisonous'].value_counts()"
   ],
   "metadata": {
    "id": "VtG5GFMZsrW_"
   }
  },
  {
   "cell_type": "markdown",
   "source": [],
   "metadata": {
    "id": "Yv0m7--CsqMh"
   }
  },
  {
   "cell_type": "code",
   "metadata": {
    "id": "I_plERYPo_OY",
    "ExecuteTime": {
     "end_time": "2024-12-01T13:20:13.238104Z",
     "start_time": "2024-12-01T13:20:12.468999Z"
    }
   },
   "source": [
    "from keras.api.models import Model, Sequential\n",
    "from keras import layers\n",
    "import keras\n",
    "import tensorflow as tf\n",
    "import matplotlib.pyplot as plt"
   ],
   "outputs": [],
   "execution_count": 5
  },
  {
   "cell_type": "code",
   "metadata": {
    "id": "PFbzTFrWzOcs",
    "ExecuteTime": {
     "end_time": "2024-12-01T13:20:14.695587Z",
     "start_time": "2024-12-01T13:20:14.683094Z"
    }
   },
   "source": [
    "# Címkék és file path-ek betöltése\n",
    "file_paths_train = [f\"{data_dir_train}/{fname}\" for fname in labels_train_df[\"image_path\"]]\n",
    "species_labels_train = labels_train_df[\"species_encoded\"].values  # Többosztályos címkék\n",
    "toxicity_labels_train = labels_train_df[\"poisonous\"].values  # Bináris címkék\n",
    "\n",
    "file_paths_valid = [f\"{data_dir_valid}/{fname}\" for fname in labels_valid_df[\"image_path\"]]\n",
    "species_labels_valid = labels_valid_df[\"species_encoded\"].values  # Többosztályos címkék\n",
    "toxicity_labels_valid = labels_valid_df[\"poisonous\"].values  # Bináris címkék\n"
   ],
   "outputs": [],
   "execution_count": 6
  },
  {
   "cell_type": "code",
   "metadata": {
    "executionInfo": {
     "elapsed": 1520,
     "status": "ok",
     "timestamp": 1732804622181,
     "user": {
      "displayName": "Bence Fazekas",
      "userId": "07904134949574519221"
     },
     "user_tz": -60
    },
    "id": "C9huR1sDy9oW",
    "colab": {
     "base_uri": "https://localhost:8080/"
    },
    "outputId": "02466a29-f5c6-4d9a-d831-33d9512cb9a1",
    "ExecuteTime": {
     "end_time": "2024-12-01T13:20:16.013640Z",
     "start_time": "2024-12-01T13:20:15.853849Z"
    }
   },
   "source": [
    "# Egyéni adatbetöltő függvény\n",
    "def preprocess_image(filename, species_label, toxicity_label):\n",
    "    # Kép betöltése és átméretezése\n",
    "    image = tf.io.read_file(filename)\n",
    "    image = tf.image.decode_jpeg(image, channels=3)\n",
    "    image = tf.image.resize(image, (130, 130))\n",
    "    return image, {\"species\": species_label, \"toxicity\": toxicity_label}\n",
    "\n",
    "# TensorFlow dataset létrehozása\n",
    "file_paths_ds = tf.data.Dataset.from_tensor_slices((file_paths_train, species_labels_train, toxicity_labels_train))\n",
    "dataset = file_paths_ds.map(preprocess_image)\n",
    "\n",
    "# Adat split (train és validation)\n",
    "train_size = int(len(file_paths_train))\n",
    "train_dataset = dataset.take(train_size).batch(8)\n",
    "\n",
    "print(len(train_dataset))\n",
    "\n",
    "file_paths_ds = tf.data.Dataset.from_tensor_slices((file_paths_valid, species_labels_valid, toxicity_labels_valid))\n",
    "dataset = file_paths_ds.map(preprocess_image)\n",
    "\n",
    "# Adat split (train és validation)\n",
    "valid_size = int(len(file_paths_valid))\n",
    "valid_dataset = dataset.take(valid_size).batch(8)\n",
    "\n",
    "print(len(valid_dataset))"
   ],
   "outputs": [
    {
     "name": "stdout",
     "output_type": "stream",
     "text": [
      "4606\n",
      "801\n"
     ]
    }
   ],
   "execution_count": 7
  },
  {
   "cell_type": "code",
   "metadata": {
    "id": "RoaPiyc5o_OZ",
    "ExecuteTime": {
     "end_time": "2024-12-01T14:07:05.061521Z",
     "start_time": "2024-12-01T14:07:05.056884Z"
    }
   },
   "source": [
    "from keras.callbacks import EarlyStopping\n",
    "\n",
    "early_stopping = EarlyStopping(\n",
    "    min_delta=0.01,\n",
    "    patience=5,\n",
    "    verbose=1,\n",
    "    mode='auto',\n",
    "    restore_best_weights=True\n",
    ")\n",
    "\n"
   ],
   "outputs": [],
   "execution_count": 13
  },
  {
   "cell_type": "code",
   "source": [
    "base_model = VGG19(weights='imagenet', include_top=False, input_shape=(130, 130, 3))\n",
    "\n",
    "for layer in base_model.layers:\n",
    "     layer.trainable = False"
   ],
   "metadata": {
    "id": "EZnb5YO1xjeq",
    "ExecuteTime": {
     "end_time": "2024-12-01T13:20:18.829671Z",
     "start_time": "2024-12-01T13:20:18.294654Z"
    }
   },
   "outputs": [],
   "execution_count": 9
  },
  {
   "metadata": {},
   "cell_type": "markdown",
   "source": [
    "import tensorflow as tf\n",
    "from tensorflow.keras import backend as K\n",
    "\n",
    "def f1_macro(y_true, y_pred):\n",
    "    # Convert predictions to class indices if needed\n",
    "    y_pred = tf.argmax(y_pred, axis=-1)\n",
    "    y_true = tf.cast(y_true, tf.int64)\n",
    "\n",
    "    # Get the number of classes dynamically\n",
    "    num_classes = tf.reduce_max(y_true) + 1\n",
    "\n",
    "    # Initialize a tensor to store F1 scores for each class\n",
    "    f1_scores = tf.TensorArray(dtype=tf.float32, size=0, dynamic_size=True)\n",
    "\n",
    "    # Use tf.range instead of Python's range\n",
    "    for i in tf.range(num_classes):\n",
    "        # Calculate precision and recall for class i\n",
    "        true_positive = tf.reduce_sum(tf.cast(tf.logical_and(tf.equal(y_pred, i), tf.equal(y_true, i)), tf.float32))\n",
    "        predicted_positive = tf.reduce_sum(tf.cast(tf.equal(y_pred, i), tf.float32))\n",
    "        actual_positive = tf.reduce_sum(tf.cast(tf.equal(y_true, i), tf.float32))\n",
    "\n",
    "        precision = true_positive / (predicted_positive + K.epsilon())\n",
    "        recall = true_positive / (actual_positive + K.epsilon())\n",
    "\n",
    "        # Calculate F1 score for the class\n",
    "        f1 = 2 * (precision * recall) / (precision + recall + K.epsilon())\n",
    "        f1_scores = f1_scores.write(i, f1)\n",
    "\n",
    "    # Stack F1 scores and compute their mean (macro F1)\n",
    "    macro_f1 = tf.reduce_mean(f1_scores.stack())\n",
    "    return macro_f1\n"
   ]
  },
  {
   "cell_type": "code",
   "metadata": {
    "id": "0jkKti4eo_Oa",
    "ExecuteTime": {
     "end_time": "2024-12-01T13:20:21.745997Z",
     "start_time": "2024-12-01T13:20:21.733966Z"
    }
   },
   "source": [
    "from keras.metrics import Precision, Recall\n",
    "from keras import backend as K\n",
    "\n",
    "# Initialize Precision and Recall for F1 calculation\n",
    "precision = Precision()\n",
    "recall = Recall()\n",
    "\n",
    "def f1_score(y_true, y_pred):\n",
    "    p = precision(y_true, y_pred)\n",
    "    r = recall(y_true, y_pred)\n",
    "    return 2 * (p * r) / (p + r + K.epsilon())\n"
   ],
   "outputs": [],
   "execution_count": 10
  },
  {
   "cell_type": "code",
   "metadata": {
    "id": "Tpnj1M2Co_Ob",
    "ExecuteTime": {
     "end_time": "2024-12-01T13:20:23.862369Z",
     "start_time": "2024-12-01T13:20:23.857050Z"
    }
   },
   "source": [
    "\n",
    "\n",
    "# Define the confusion costs\n",
    "c_PSC = tf.constant(100.0, dtype=tf.float32)  # Cost for poisonous species confusion\n",
    "c_ESC = tf.constant(1.0, dtype=tf.float32)    # Cost for edible species confusion\n",
    "\n",
    "# Classification loss for species\n",
    "def species_loss(y_true, y_pred):\n",
    "    return tf.keras.losses.sparse_categorical_crossentropy(y_true, y_pred)\n",
    "\n",
    "# Custom loss for toxicity with confusion cost\n",
    "def toxicity_confusion_loss(y_true, y_pred):\n",
    "    # `y_true` and `y_pred` are binary (0 = edible, 1 = poisonous)\n",
    "    confusion_cost = tf.where(\n",
    "        tf.logical_and(tf.equal(y_true, 1), tf.equal(tf.round(y_pred), 0)),  # poisonous misclassified as edible\n",
    "        c_PSC,\n",
    "        tf.where(\n",
    "            tf.logical_and(tf.equal(y_true, 0), tf.equal(tf.round(y_pred), 1)),  # edible misclassified as poisonous\n",
    "            c_ESC,\n",
    "            tf.constant(0.0, dtype=tf.float32)\n",
    "        )\n",
    "    )\n",
    "    # Binary cross-entropy for toxicity classification + confusion cost\n",
    "    base_loss = tf.keras.losses.binary_crossentropy(y_true, y_pred)\n",
    "    return base_loss + confusion_cost\n"
   ],
   "outputs": [],
   "execution_count": 11
  },
  {
   "cell_type": "code",
   "metadata": {
    "colab": {
     "base_uri": "https://localhost:8080/"
    },
    "id": "GppSPJU6zBWw",
    "outputId": "50a567f5-9399-4627-9f3d-0c2e933e9b5c",
    "ExecuteTime": {
     "end_time": "2024-12-01T19:03:15.885270Z",
     "start_time": "2024-12-01T14:07:09.623300Z"
    }
   },
   "source": [
    "# 2. Modell felépítése\n",
    "def build_multitask_model(input_shape):\n",
    "\n",
    "    data_augmentation = Sequential([\n",
    "    RandomRotation(0.2),       # Forgatás ±20%-kal\n",
    "    RandomFlip(\"horizontal\"),  # Vízszintes tükrözés\n",
    "    ])\n",
    "\n",
    "    x = data_augmentation(base_model.input)\n",
    "    x = base_model(inputs=x)\n",
    "    x = GlobalAveragePooling2D()(x)\n",
    "    x = Flatten()(x)\n",
    "    x = Dense(1024, activation='relu')(x)\n",
    "    x = Dropout(0.25)(x)\n",
    "\n",
    "    # Faj osztályozó fej\n",
    "    species_head = Dense(1024, activation='relu')(x)\n",
    "    species_head = Dropout(0.25)(species_head)\n",
    "    species_head = Dense(1024, activation='relu')(species_head)\n",
    "    species_output = layers.Dense(100, activation=\"softmax\", name=\"species\")(species_head)\n",
    "\n",
    "    # Mérgezőség osztályozó fej\n",
    "    toxicity_head = Dense(1024, activation='relu')(x)\n",
    "    toxicity_head = Dropout(0.25)(toxicity_head)\n",
    "    toxicity_head = layers.Dense(1024, activation=\"relu\")(toxicity_head)\n",
    "    toxicity_output = layers.Dense(1, activation=\"sigmoid\", name=\"toxicity\")(toxicity_head)\n",
    "\n",
    "    model = Model(inputs=base_model.input, outputs=[species_output, toxicity_output])\n",
    "    return model\n",
    "\n",
    "input_shape = (130, 130, 3)\n",
    "model = build_multitask_model(input_shape)\n",
    "\n",
    "# 3. Modell összeállítása\n",
    "model.compile(\n",
    "    optimizer=keras.optimizers.Adam(learning_rate=0.000175),\n",
    "    loss={\n",
    "        \"species\": \"sparse_categorical_crossentropy\",\n",
    "        \"toxicity\": toxicity_confusion_loss\n",
    "    },\n",
    "    metrics={\n",
    "        \"species\": \"accuracy\",\n",
    "        \"toxicity\": f1_score\n",
    "    }\n",
    ")\n",
    "# 4. Modell tanítása\n",
    "history = model.fit(\n",
    "    train_dataset,\n",
    "    validation_data=valid_dataset,\n",
    "    callbacks = [early_stopping],\n",
    "    epochs=100\n",
    ")\n"
   ],
   "outputs": [
    {
     "name": "stdout",
     "output_type": "stream",
     "text": [
      "Epoch 1/100\n",
      "\u001B[1m4606/4606\u001B[0m \u001B[32m━━━━━━━━━━━━━━━━━━━━\u001B[0m\u001B[37m\u001B[0m \u001B[1m1636s\u001B[0m 355ms/step - loss: 7.1411 - species_accuracy: 0.1529 - species_loss: 3.7633 - toxicity_f1_score: 0.0211 - toxicity_loss: 3.3778 - val_loss: 5.6696 - val_species_accuracy: 0.3335 - val_species_loss: 2.6139 - val_toxicity_f1_score: 0.0177 - val_toxicity_loss: 3.0557\n",
      "Epoch 2/100\n",
      "\u001B[1m4606/4606\u001B[0m \u001B[32m━━━━━━━━━━━━━━━━━━━━\u001B[0m\u001B[37m\u001B[0m \u001B[1m1623s\u001B[0m 352ms/step - loss: 6.1211 - species_accuracy: 0.2896 - species_loss: 2.8018 - toxicity_f1_score: 0.0180 - toxicity_loss: 3.3193 - val_loss: 5.5262 - val_species_accuracy: 0.3688 - val_species_loss: 2.4757 - val_toxicity_f1_score: 0.0198 - val_toxicity_loss: 3.0505\n",
      "Epoch 3/100\n",
      "\u001B[1m4606/4606\u001B[0m \u001B[32m━━━━━━━━━━━━━━━━━━━━\u001B[0m\u001B[37m\u001B[0m \u001B[1m1620s\u001B[0m 352ms/step - loss: 5.8649 - species_accuracy: 0.3326 - species_loss: 2.5774 - toxicity_f1_score: 0.0203 - toxicity_loss: 3.2875 - val_loss: 5.3538 - val_species_accuracy: 0.3883 - val_species_loss: 2.3761 - val_toxicity_f1_score: 0.0238 - val_toxicity_loss: 2.9777\n",
      "Epoch 4/100\n",
      "\u001B[1m4606/4606\u001B[0m \u001B[32m━━━━━━━━━━━━━━━━━━━━\u001B[0m\u001B[37m\u001B[0m \u001B[1m1650s\u001B[0m 358ms/step - loss: 5.7213 - species_accuracy: 0.3591 - species_loss: 2.4496 - toxicity_f1_score: 0.0256 - toxicity_loss: 3.2717 - val_loss: 5.3147 - val_species_accuracy: 0.3989 - val_species_loss: 2.3406 - val_toxicity_f1_score: 0.0289 - val_toxicity_loss: 2.9741\n",
      "Epoch 5/100\n",
      "\u001B[1m4606/4606\u001B[0m \u001B[32m━━━━━━━━━━━━━━━━━━━━\u001B[0m\u001B[37m\u001B[0m \u001B[1m1589s\u001B[0m 345ms/step - loss: 5.6291 - species_accuracy: 0.3756 - species_loss: 2.3525 - toxicity_f1_score: 0.0300 - toxicity_loss: 3.2766 - val_loss: 5.2016 - val_species_accuracy: 0.3956 - val_species_loss: 2.3303 - val_toxicity_f1_score: 0.0356 - val_toxicity_loss: 2.8713\n",
      "Epoch 6/100\n",
      "\u001B[1m4606/4606\u001B[0m \u001B[32m━━━━━━━━━━━━━━━━━━━━\u001B[0m\u001B[37m\u001B[0m \u001B[1m1599s\u001B[0m 347ms/step - loss: 5.5017 - species_accuracy: 0.3947 - species_loss: 2.2809 - toxicity_f1_score: 0.0376 - toxicity_loss: 3.2209 - val_loss: 5.1346 - val_species_accuracy: 0.3989 - val_species_loss: 2.3302 - val_toxicity_f1_score: 0.0446 - val_toxicity_loss: 2.8044\n",
      "Epoch 7/100\n",
      "\u001B[1m4606/4606\u001B[0m \u001B[32m━━━━━━━━━━━━━━━━━━━━\u001B[0m\u001B[37m\u001B[0m \u001B[1m1641s\u001B[0m 356ms/step - loss: 5.3608 - species_accuracy: 0.4073 - species_loss: 2.2031 - toxicity_f1_score: 0.0473 - toxicity_loss: 3.1577 - val_loss: 5.3522 - val_species_accuracy: 0.3956 - val_species_loss: 2.3551 - val_toxicity_f1_score: 0.0525 - val_toxicity_loss: 2.9972\n",
      "Epoch 8/100\n",
      "\u001B[1m4606/4606\u001B[0m \u001B[32m━━━━━━━━━━━━━━━━━━━━\u001B[0m\u001B[37m\u001B[0m \u001B[1m1583s\u001B[0m 344ms/step - loss: 5.3153 - species_accuracy: 0.4165 - species_loss: 2.1564 - toxicity_f1_score: 0.0537 - toxicity_loss: 3.1589 - val_loss: 5.1749 - val_species_accuracy: 0.4142 - val_species_loss: 2.3263 - val_toxicity_f1_score: 0.0591 - val_toxicity_loss: 2.8485\n",
      "Epoch 9/100\n",
      "\u001B[1m4606/4606\u001B[0m \u001B[32m━━━━━━━━━━━━━━━━━━━━\u001B[0m\u001B[37m\u001B[0m \u001B[1m1580s\u001B[0m 343ms/step - loss: 5.1772 - species_accuracy: 0.4324 - species_loss: 2.1031 - toxicity_f1_score: 0.0617 - toxicity_loss: 3.0742 - val_loss: 5.2573 - val_species_accuracy: 0.4068 - val_species_loss: 2.3824 - val_toxicity_f1_score: 0.0692 - val_toxicity_loss: 2.8749\n",
      "Epoch 10/100\n",
      "\u001B[1m4606/4606\u001B[0m \u001B[32m━━━━━━━━━━━━━━━━━━━━\u001B[0m\u001B[37m\u001B[0m \u001B[1m1589s\u001B[0m 345ms/step - loss: 5.1545 - species_accuracy: 0.4435 - species_loss: 2.0632 - toxicity_f1_score: 0.0710 - toxicity_loss: 3.0913 - val_loss: 5.1967 - val_species_accuracy: 0.4045 - val_species_loss: 2.3505 - val_toxicity_f1_score: 0.0783 - val_toxicity_loss: 2.8461\n",
      "Epoch 11/100\n",
      "\u001B[1m4606/4606\u001B[0m \u001B[32m━━━━━━━━━━━━━━━━━━━━\u001B[0m\u001B[37m\u001B[0m \u001B[1m1656s\u001B[0m 359ms/step - loss: 5.0124 - species_accuracy: 0.4450 - species_loss: 2.0118 - toxicity_f1_score: 0.0808 - toxicity_loss: 3.0006 - val_loss: 5.1565 - val_species_accuracy: 0.4218 - val_species_loss: 2.2958 - val_toxicity_f1_score: 0.0878 - val_toxicity_loss: 2.8607\n",
      "Epoch 11: early stopping\n",
      "Restoring model weights from the end of the best epoch: 6.\n"
     ]
    }
   ],
   "execution_count": 14
  },
  {
   "cell_type": "code",
   "metadata": {
    "id": "8IvHi8WHo_Ob",
    "ExecuteTime": {
     "end_time": "2024-12-01T19:19:29.737159Z",
     "start_time": "2024-12-01T19:19:29.580220Z"
    }
   },
   "source": [
    "history_df = pd.DataFrame(history.history)\n",
    "history_df.loc[:, ['loss', 'val_loss']].plot();\n",
    "plt.title(\"VGG-19\")\n",
    "print(\"Minimum validation loss: {}\".format(history_df['val_loss'].min()))"
   ],
   "outputs": [
    {
     "name": "stdout",
     "output_type": "stream",
     "text": [
      "Minimum validation loss: 5.134632110595703\n"
     ]
    },
    {
     "data": {
      "text/plain": [
       "<Figure size 640x480 with 1 Axes>"
      ],
      "image/png": "[encoded data removed]"
     },
     "metadata": {},
     "output_type": "display_data"
    }
   ],
   "execution_count": 17
  },
  {
   "cell_type": "code",
   "metadata": {
    "id": "YzWbPrH2o_Oc",
    "ExecuteTime": {
     "end_time": "2024-12-01T13:18:42.638666Z",
     "start_time": "2024-12-01T13:18:42.638666Z"
    }
   },
   "source": [],
   "outputs": [],
   "execution_count": null
  },
  {
   "cell_type": "code",
   "metadata": {
    "id": "Edxn_534o_Oc",
    "ExecuteTime": {
     "end_time": "2024-12-01T13:18:42.640054Z",
     "start_time": "2024-12-01T13:18:42.640054Z"
    }
   },
   "source": [],
   "outputs": [],
   "execution_count": null
  }
 ],
 "metadata": {
  "colab": {
   "provenance": [],
   "gpuType": "T4"
  },
  "kernelspec": {
   "display_name": "Python 3 (ipykernel)",
   "name": "python3",
   "language": "python"
  },
  "language_info": {
   "codemirror_mode": {
    "name": "ipython",
    "version": 3
   },
   "file_extension": ".py",
   "mimetype": "text/x-python",
   "name": "python",
   "nbconvert_exporter": "python",
   "pygments_lexer": "ipython3",
   "version": "3.12.3"
  },
  "accelerator": "GPU"
 },
 "nbformat": 4,
 "nbformat_minor": 0
}
